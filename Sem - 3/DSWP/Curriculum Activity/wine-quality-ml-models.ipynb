{
 "cells": [
  {
   "cell_type": "markdown",
   "id": "cbfb1805",
   "metadata": {
    "papermill": {
     "duration": 0.037093,
     "end_time": "2021-10-13T15:02:03.713735",
     "exception": false,
     "start_time": "2021-10-13T15:02:03.676642",
     "status": "completed"
    },
    "tags": []
   },
   "source": [
    "# Import Libraries"
   ]
  },
  {
   "cell_type": "code",
   "execution_count": 1,
   "id": "2c58e8be",
   "metadata": {
    "execution": {
     "iopub.execute_input": "2021-10-13T15:02:03.788247Z",
     "iopub.status.busy": "2021-10-13T15:02:03.787001Z",
     "iopub.status.idle": "2021-10-13T15:02:04.804238Z",
     "shell.execute_reply": "2021-10-13T15:02:04.803533Z",
     "shell.execute_reply.started": "2021-10-13T15:01:18.686435Z"
    },
    "papermill": {
     "duration": 1.054978,
     "end_time": "2021-10-13T15:02:04.804438",
     "exception": false,
     "start_time": "2021-10-13T15:02:03.749460",
     "status": "completed"
    },
    "tags": []
   },
   "outputs": [],
   "source": [
    "import numpy as np\n",
    "import pandas as pd\n",
    "import seaborn as sns\n",
    "import matplotlib.pyplot as plt\n",
    "\n",
    "from sklearn.model_selection import train_test_split\n",
    "from sklearn.metrics import confusion_matrix, classification_report, accuracy_score"
   ]
  },
  {
   "cell_type": "markdown",
   "id": "c2812222",
   "metadata": {
    "papermill": {
     "duration": 0.033213,
     "end_time": "2021-10-13T15:02:04.872757",
     "exception": false,
     "start_time": "2021-10-13T15:02:04.839544",
     "status": "completed"
    },
    "tags": []
   },
   "source": [
    "# Load Dataset"
   ]
  },
  {
   "cell_type": "code",
   "execution_count": 2,
   "id": "a2b8e322",
   "metadata": {
    "execution": {
     "iopub.execute_input": "2021-10-13T15:02:04.954740Z",
     "iopub.status.busy": "2021-10-13T15:02:04.953641Z",
     "iopub.status.idle": "2021-10-13T15:02:05.024003Z",
     "shell.execute_reply": "2021-10-13T15:02:05.024568Z",
     "shell.execute_reply.started": "2021-10-13T15:01:18.736327Z"
    },
    "papermill": {
     "duration": 0.115066,
     "end_time": "2021-10-13T15:02:05.024740",
     "exception": false,
     "start_time": "2021-10-13T15:02:04.909674",
     "status": "completed"
    },
    "tags": []
   },
   "outputs": [
    {
     "data": {
      "text/html": [
       "<div>\n",
       "<style scoped>\n",
       "    .dataframe tbody tr th:only-of-type {\n",
       "        vertical-align: middle;\n",
       "    }\n",
       "\n",
       "    .dataframe tbody tr th {\n",
       "        vertical-align: top;\n",
       "    }\n",
       "\n",
       "    .dataframe thead th {\n",
       "        text-align: right;\n",
       "    }\n",
       "</style>\n",
       "<table border=\"1\" class=\"dataframe\">\n",
       "  <thead>\n",
       "    <tr style=\"text-align: right;\">\n",
       "      <th></th>\n",
       "      <th>fixed acidity</th>\n",
       "      <th>volatile acidity</th>\n",
       "      <th>citric acid</th>\n",
       "      <th>residual sugar</th>\n",
       "      <th>chlorides</th>\n",
       "      <th>free sulfur dioxide</th>\n",
       "      <th>total sulfur dioxide</th>\n",
       "      <th>density</th>\n",
       "      <th>pH</th>\n",
       "      <th>sulphates</th>\n",
       "      <th>alcohol</th>\n",
       "      <th>quality</th>\n",
       "    </tr>\n",
       "  </thead>\n",
       "  <tbody>\n",
       "    <tr>\n",
       "      <th>0</th>\n",
       "      <td>7.4</td>\n",
       "      <td>0.700</td>\n",
       "      <td>0.00</td>\n",
       "      <td>1.9</td>\n",
       "      <td>0.076</td>\n",
       "      <td>11.0</td>\n",
       "      <td>34.0</td>\n",
       "      <td>0.9978</td>\n",
       "      <td>3.51</td>\n",
       "      <td>0.56</td>\n",
       "      <td>9.4</td>\n",
       "      <td>5</td>\n",
       "    </tr>\n",
       "    <tr>\n",
       "      <th>1</th>\n",
       "      <td>7.8</td>\n",
       "      <td>0.880</td>\n",
       "      <td>0.00</td>\n",
       "      <td>2.6</td>\n",
       "      <td>0.098</td>\n",
       "      <td>25.0</td>\n",
       "      <td>67.0</td>\n",
       "      <td>0.9968</td>\n",
       "      <td>3.20</td>\n",
       "      <td>0.68</td>\n",
       "      <td>9.8</td>\n",
       "      <td>5</td>\n",
       "    </tr>\n",
       "    <tr>\n",
       "      <th>2</th>\n",
       "      <td>7.8</td>\n",
       "      <td>0.760</td>\n",
       "      <td>0.04</td>\n",
       "      <td>2.3</td>\n",
       "      <td>0.092</td>\n",
       "      <td>15.0</td>\n",
       "      <td>54.0</td>\n",
       "      <td>0.9970</td>\n",
       "      <td>3.26</td>\n",
       "      <td>0.65</td>\n",
       "      <td>9.8</td>\n",
       "      <td>5</td>\n",
       "    </tr>\n",
       "    <tr>\n",
       "      <th>3</th>\n",
       "      <td>11.2</td>\n",
       "      <td>0.280</td>\n",
       "      <td>0.56</td>\n",
       "      <td>1.9</td>\n",
       "      <td>0.075</td>\n",
       "      <td>17.0</td>\n",
       "      <td>60.0</td>\n",
       "      <td>0.9980</td>\n",
       "      <td>3.16</td>\n",
       "      <td>0.58</td>\n",
       "      <td>9.8</td>\n",
       "      <td>6</td>\n",
       "    </tr>\n",
       "    <tr>\n",
       "      <th>4</th>\n",
       "      <td>7.4</td>\n",
       "      <td>0.700</td>\n",
       "      <td>0.00</td>\n",
       "      <td>1.9</td>\n",
       "      <td>0.076</td>\n",
       "      <td>11.0</td>\n",
       "      <td>34.0</td>\n",
       "      <td>0.9978</td>\n",
       "      <td>3.51</td>\n",
       "      <td>0.56</td>\n",
       "      <td>9.4</td>\n",
       "      <td>5</td>\n",
       "    </tr>\n",
       "    <tr>\n",
       "      <th>5</th>\n",
       "      <td>7.4</td>\n",
       "      <td>0.660</td>\n",
       "      <td>0.00</td>\n",
       "      <td>1.8</td>\n",
       "      <td>0.075</td>\n",
       "      <td>13.0</td>\n",
       "      <td>40.0</td>\n",
       "      <td>0.9978</td>\n",
       "      <td>3.51</td>\n",
       "      <td>0.56</td>\n",
       "      <td>9.4</td>\n",
       "      <td>5</td>\n",
       "    </tr>\n",
       "    <tr>\n",
       "      <th>6</th>\n",
       "      <td>7.9</td>\n",
       "      <td>0.600</td>\n",
       "      <td>0.06</td>\n",
       "      <td>1.6</td>\n",
       "      <td>0.069</td>\n",
       "      <td>15.0</td>\n",
       "      <td>59.0</td>\n",
       "      <td>0.9964</td>\n",
       "      <td>3.30</td>\n",
       "      <td>0.46</td>\n",
       "      <td>9.4</td>\n",
       "      <td>5</td>\n",
       "    </tr>\n",
       "    <tr>\n",
       "      <th>7</th>\n",
       "      <td>7.3</td>\n",
       "      <td>0.650</td>\n",
       "      <td>0.00</td>\n",
       "      <td>1.2</td>\n",
       "      <td>0.065</td>\n",
       "      <td>15.0</td>\n",
       "      <td>21.0</td>\n",
       "      <td>0.9946</td>\n",
       "      <td>3.39</td>\n",
       "      <td>0.47</td>\n",
       "      <td>10.0</td>\n",
       "      <td>7</td>\n",
       "    </tr>\n",
       "    <tr>\n",
       "      <th>8</th>\n",
       "      <td>7.8</td>\n",
       "      <td>0.580</td>\n",
       "      <td>0.02</td>\n",
       "      <td>2.0</td>\n",
       "      <td>0.073</td>\n",
       "      <td>9.0</td>\n",
       "      <td>18.0</td>\n",
       "      <td>0.9968</td>\n",
       "      <td>3.36</td>\n",
       "      <td>0.57</td>\n",
       "      <td>9.5</td>\n",
       "      <td>7</td>\n",
       "    </tr>\n",
       "    <tr>\n",
       "      <th>9</th>\n",
       "      <td>7.5</td>\n",
       "      <td>0.500</td>\n",
       "      <td>0.36</td>\n",
       "      <td>6.1</td>\n",
       "      <td>0.071</td>\n",
       "      <td>17.0</td>\n",
       "      <td>102.0</td>\n",
       "      <td>0.9978</td>\n",
       "      <td>3.35</td>\n",
       "      <td>0.80</td>\n",
       "      <td>10.5</td>\n",
       "      <td>5</td>\n",
       "    </tr>\n",
       "    <tr>\n",
       "      <th>10</th>\n",
       "      <td>6.7</td>\n",
       "      <td>0.580</td>\n",
       "      <td>0.08</td>\n",
       "      <td>1.8</td>\n",
       "      <td>0.097</td>\n",
       "      <td>15.0</td>\n",
       "      <td>65.0</td>\n",
       "      <td>0.9959</td>\n",
       "      <td>3.28</td>\n",
       "      <td>0.54</td>\n",
       "      <td>9.2</td>\n",
       "      <td>5</td>\n",
       "    </tr>\n",
       "    <tr>\n",
       "      <th>11</th>\n",
       "      <td>7.5</td>\n",
       "      <td>0.500</td>\n",
       "      <td>0.36</td>\n",
       "      <td>6.1</td>\n",
       "      <td>0.071</td>\n",
       "      <td>17.0</td>\n",
       "      <td>102.0</td>\n",
       "      <td>0.9978</td>\n",
       "      <td>3.35</td>\n",
       "      <td>0.80</td>\n",
       "      <td>10.5</td>\n",
       "      <td>5</td>\n",
       "    </tr>\n",
       "    <tr>\n",
       "      <th>12</th>\n",
       "      <td>5.6</td>\n",
       "      <td>0.615</td>\n",
       "      <td>0.00</td>\n",
       "      <td>1.6</td>\n",
       "      <td>0.089</td>\n",
       "      <td>16.0</td>\n",
       "      <td>59.0</td>\n",
       "      <td>0.9943</td>\n",
       "      <td>3.58</td>\n",
       "      <td>0.52</td>\n",
       "      <td>9.9</td>\n",
       "      <td>5</td>\n",
       "    </tr>\n",
       "    <tr>\n",
       "      <th>13</th>\n",
       "      <td>7.8</td>\n",
       "      <td>0.610</td>\n",
       "      <td>0.29</td>\n",
       "      <td>1.6</td>\n",
       "      <td>0.114</td>\n",
       "      <td>9.0</td>\n",
       "      <td>29.0</td>\n",
       "      <td>0.9974</td>\n",
       "      <td>3.26</td>\n",
       "      <td>1.56</td>\n",
       "      <td>9.1</td>\n",
       "      <td>5</td>\n",
       "    </tr>\n",
       "    <tr>\n",
       "      <th>14</th>\n",
       "      <td>8.9</td>\n",
       "      <td>0.620</td>\n",
       "      <td>0.18</td>\n",
       "      <td>3.8</td>\n",
       "      <td>0.176</td>\n",
       "      <td>52.0</td>\n",
       "      <td>145.0</td>\n",
       "      <td>0.9986</td>\n",
       "      <td>3.16</td>\n",
       "      <td>0.88</td>\n",
       "      <td>9.2</td>\n",
       "      <td>5</td>\n",
       "    </tr>\n",
       "  </tbody>\n",
       "</table>\n",
       "</div>"
      ],
      "text/plain": [
       "    fixed acidity  volatile acidity  citric acid  residual sugar  chlorides  \\\n",
       "0             7.4             0.700         0.00             1.9      0.076   \n",
       "1             7.8             0.880         0.00             2.6      0.098   \n",
       "2             7.8             0.760         0.04             2.3      0.092   \n",
       "3            11.2             0.280         0.56             1.9      0.075   \n",
       "4             7.4             0.700         0.00             1.9      0.076   \n",
       "5             7.4             0.660         0.00             1.8      0.075   \n",
       "6             7.9             0.600         0.06             1.6      0.069   \n",
       "7             7.3             0.650         0.00             1.2      0.065   \n",
       "8             7.8             0.580         0.02             2.0      0.073   \n",
       "9             7.5             0.500         0.36             6.1      0.071   \n",
       "10            6.7             0.580         0.08             1.8      0.097   \n",
       "11            7.5             0.500         0.36             6.1      0.071   \n",
       "12            5.6             0.615         0.00             1.6      0.089   \n",
       "13            7.8             0.610         0.29             1.6      0.114   \n",
       "14            8.9             0.620         0.18             3.8      0.176   \n",
       "\n",
       "    free sulfur dioxide  total sulfur dioxide  density    pH  sulphates  \\\n",
       "0                  11.0                  34.0   0.9978  3.51       0.56   \n",
       "1                  25.0                  67.0   0.9968  3.20       0.68   \n",
       "2                  15.0                  54.0   0.9970  3.26       0.65   \n",
       "3                  17.0                  60.0   0.9980  3.16       0.58   \n",
       "4                  11.0                  34.0   0.9978  3.51       0.56   \n",
       "5                  13.0                  40.0   0.9978  3.51       0.56   \n",
       "6                  15.0                  59.0   0.9964  3.30       0.46   \n",
       "7                  15.0                  21.0   0.9946  3.39       0.47   \n",
       "8                   9.0                  18.0   0.9968  3.36       0.57   \n",
       "9                  17.0                 102.0   0.9978  3.35       0.80   \n",
       "10                 15.0                  65.0   0.9959  3.28       0.54   \n",
       "11                 17.0                 102.0   0.9978  3.35       0.80   \n",
       "12                 16.0                  59.0   0.9943  3.58       0.52   \n",
       "13                  9.0                  29.0   0.9974  3.26       1.56   \n",
       "14                 52.0                 145.0   0.9986  3.16       0.88   \n",
       "\n",
       "    alcohol  quality  \n",
       "0       9.4        5  \n",
       "1       9.8        5  \n",
       "2       9.8        5  \n",
       "3       9.8        6  \n",
       "4       9.4        5  \n",
       "5       9.4        5  \n",
       "6       9.4        5  \n",
       "7      10.0        7  \n",
       "8       9.5        7  \n",
       "9      10.5        5  \n",
       "10      9.2        5  \n",
       "11     10.5        5  \n",
       "12      9.9        5  \n",
       "13      9.1        5  \n",
       "14      9.2        5  "
      ]
     },
     "execution_count": 2,
     "metadata": {},
     "output_type": "execute_result"
    }
   ],
   "source": [
    "data = pd.read_csv('../input/red-wine-quality-cortez-et-al-2009/winequality-red.csv')\n",
    "data.head(15)"
   ]
  },
  {
   "cell_type": "code",
   "execution_count": 3,
   "id": "92c698ce",
   "metadata": {
    "execution": {
     "iopub.execute_input": "2021-10-13T15:02:05.119243Z",
     "iopub.status.busy": "2021-10-13T15:02:05.103553Z",
     "iopub.status.idle": "2021-10-13T15:02:05.123359Z",
     "shell.execute_reply": "2021-10-13T15:02:05.122830Z",
     "shell.execute_reply.started": "2021-10-13T15:01:18.770929Z"
    },
    "papermill": {
     "duration": 0.062373,
     "end_time": "2021-10-13T15:02:05.123518",
     "exception": false,
     "start_time": "2021-10-13T15:02:05.061145",
     "status": "completed"
    },
    "tags": []
   },
   "outputs": [
    {
     "name": "stdout",
     "output_type": "stream",
     "text": [
      "<class 'pandas.core.frame.DataFrame'>\n",
      "RangeIndex: 1599 entries, 0 to 1598\n",
      "Data columns (total 12 columns):\n",
      " #   Column                Non-Null Count  Dtype  \n",
      "---  ------                --------------  -----  \n",
      " 0   fixed acidity         1599 non-null   float64\n",
      " 1   volatile acidity      1599 non-null   float64\n",
      " 2   citric acid           1599 non-null   float64\n",
      " 3   residual sugar        1599 non-null   float64\n",
      " 4   chlorides             1599 non-null   float64\n",
      " 5   free sulfur dioxide   1599 non-null   float64\n",
      " 6   total sulfur dioxide  1599 non-null   float64\n",
      " 7   density               1599 non-null   float64\n",
      " 8   pH                    1599 non-null   float64\n",
      " 9   sulphates             1599 non-null   float64\n",
      " 10  alcohol               1599 non-null   float64\n",
      " 11  quality               1599 non-null   int64  \n",
      "dtypes: float64(11), int64(1)\n",
      "memory usage: 150.0 KB\n"
     ]
    }
   ],
   "source": [
    "data.info()"
   ]
  },
  {
   "cell_type": "code",
   "execution_count": 4,
   "id": "baa0db71",
   "metadata": {
    "execution": {
     "iopub.execute_input": "2021-10-13T15:02:05.197654Z",
     "iopub.status.busy": "2021-10-13T15:02:05.196425Z",
     "iopub.status.idle": "2021-10-13T15:02:05.205210Z",
     "shell.execute_reply": "2021-10-13T15:02:05.204650Z",
     "shell.execute_reply.started": "2021-10-13T15:01:18.785196Z"
    },
    "papermill": {
     "duration": 0.046817,
     "end_time": "2021-10-13T15:02:05.205346",
     "exception": false,
     "start_time": "2021-10-13T15:02:05.158529",
     "status": "completed"
    },
    "tags": []
   },
   "outputs": [
    {
     "data": {
      "text/plain": [
       "fixed acidity           0\n",
       "volatile acidity        0\n",
       "citric acid             0\n",
       "residual sugar          0\n",
       "chlorides               0\n",
       "free sulfur dioxide     0\n",
       "total sulfur dioxide    0\n",
       "density                 0\n",
       "pH                      0\n",
       "sulphates               0\n",
       "alcohol                 0\n",
       "quality                 0\n",
       "dtype: int64"
      ]
     },
     "execution_count": 4,
     "metadata": {},
     "output_type": "execute_result"
    }
   ],
   "source": [
    "data.isnull().sum()"
   ]
  },
  {
   "cell_type": "code",
   "execution_count": 5,
   "id": "83b14e6c",
   "metadata": {
    "execution": {
     "iopub.execute_input": "2021-10-13T15:02:05.281267Z",
     "iopub.status.busy": "2021-10-13T15:02:05.280074Z",
     "iopub.status.idle": "2021-10-13T15:02:05.325658Z",
     "shell.execute_reply": "2021-10-13T15:02:05.324783Z",
     "shell.execute_reply.started": "2021-10-13T15:01:18.802261Z"
    },
    "papermill": {
     "duration": 0.085014,
     "end_time": "2021-10-13T15:02:05.325811",
     "exception": false,
     "start_time": "2021-10-13T15:02:05.240797",
     "status": "completed"
    },
    "tags": []
   },
   "outputs": [
    {
     "data": {
      "text/html": [
       "<div>\n",
       "<style scoped>\n",
       "    .dataframe tbody tr th:only-of-type {\n",
       "        vertical-align: middle;\n",
       "    }\n",
       "\n",
       "    .dataframe tbody tr th {\n",
       "        vertical-align: top;\n",
       "    }\n",
       "\n",
       "    .dataframe thead th {\n",
       "        text-align: right;\n",
       "    }\n",
       "</style>\n",
       "<table border=\"1\" class=\"dataframe\">\n",
       "  <thead>\n",
       "    <tr style=\"text-align: right;\">\n",
       "      <th></th>\n",
       "      <th>fixed acidity</th>\n",
       "      <th>volatile acidity</th>\n",
       "      <th>citric acid</th>\n",
       "      <th>residual sugar</th>\n",
       "      <th>chlorides</th>\n",
       "      <th>free sulfur dioxide</th>\n",
       "      <th>total sulfur dioxide</th>\n",
       "      <th>density</th>\n",
       "      <th>pH</th>\n",
       "      <th>sulphates</th>\n",
       "      <th>alcohol</th>\n",
       "      <th>quality</th>\n",
       "    </tr>\n",
       "  </thead>\n",
       "  <tbody>\n",
       "    <tr>\n",
       "      <th>count</th>\n",
       "      <td>1599.000000</td>\n",
       "      <td>1599.000000</td>\n",
       "      <td>1599.000000</td>\n",
       "      <td>1599.000000</td>\n",
       "      <td>1599.000000</td>\n",
       "      <td>1599.000000</td>\n",
       "      <td>1599.000000</td>\n",
       "      <td>1599.000000</td>\n",
       "      <td>1599.000000</td>\n",
       "      <td>1599.000000</td>\n",
       "      <td>1599.000000</td>\n",
       "      <td>1599.000000</td>\n",
       "    </tr>\n",
       "    <tr>\n",
       "      <th>mean</th>\n",
       "      <td>8.319637</td>\n",
       "      <td>0.527821</td>\n",
       "      <td>0.270976</td>\n",
       "      <td>2.538806</td>\n",
       "      <td>0.087467</td>\n",
       "      <td>15.874922</td>\n",
       "      <td>46.467792</td>\n",
       "      <td>0.996747</td>\n",
       "      <td>3.311113</td>\n",
       "      <td>0.658149</td>\n",
       "      <td>10.422983</td>\n",
       "      <td>5.636023</td>\n",
       "    </tr>\n",
       "    <tr>\n",
       "      <th>std</th>\n",
       "      <td>1.741096</td>\n",
       "      <td>0.179060</td>\n",
       "      <td>0.194801</td>\n",
       "      <td>1.409928</td>\n",
       "      <td>0.047065</td>\n",
       "      <td>10.460157</td>\n",
       "      <td>32.895324</td>\n",
       "      <td>0.001887</td>\n",
       "      <td>0.154386</td>\n",
       "      <td>0.169507</td>\n",
       "      <td>1.065668</td>\n",
       "      <td>0.807569</td>\n",
       "    </tr>\n",
       "    <tr>\n",
       "      <th>min</th>\n",
       "      <td>4.600000</td>\n",
       "      <td>0.120000</td>\n",
       "      <td>0.000000</td>\n",
       "      <td>0.900000</td>\n",
       "      <td>0.012000</td>\n",
       "      <td>1.000000</td>\n",
       "      <td>6.000000</td>\n",
       "      <td>0.990070</td>\n",
       "      <td>2.740000</td>\n",
       "      <td>0.330000</td>\n",
       "      <td>8.400000</td>\n",
       "      <td>3.000000</td>\n",
       "    </tr>\n",
       "    <tr>\n",
       "      <th>25%</th>\n",
       "      <td>7.100000</td>\n",
       "      <td>0.390000</td>\n",
       "      <td>0.090000</td>\n",
       "      <td>1.900000</td>\n",
       "      <td>0.070000</td>\n",
       "      <td>7.000000</td>\n",
       "      <td>22.000000</td>\n",
       "      <td>0.995600</td>\n",
       "      <td>3.210000</td>\n",
       "      <td>0.550000</td>\n",
       "      <td>9.500000</td>\n",
       "      <td>5.000000</td>\n",
       "    </tr>\n",
       "    <tr>\n",
       "      <th>50%</th>\n",
       "      <td>7.900000</td>\n",
       "      <td>0.520000</td>\n",
       "      <td>0.260000</td>\n",
       "      <td>2.200000</td>\n",
       "      <td>0.079000</td>\n",
       "      <td>14.000000</td>\n",
       "      <td>38.000000</td>\n",
       "      <td>0.996750</td>\n",
       "      <td>3.310000</td>\n",
       "      <td>0.620000</td>\n",
       "      <td>10.200000</td>\n",
       "      <td>6.000000</td>\n",
       "    </tr>\n",
       "    <tr>\n",
       "      <th>75%</th>\n",
       "      <td>9.200000</td>\n",
       "      <td>0.640000</td>\n",
       "      <td>0.420000</td>\n",
       "      <td>2.600000</td>\n",
       "      <td>0.090000</td>\n",
       "      <td>21.000000</td>\n",
       "      <td>62.000000</td>\n",
       "      <td>0.997835</td>\n",
       "      <td>3.400000</td>\n",
       "      <td>0.730000</td>\n",
       "      <td>11.100000</td>\n",
       "      <td>6.000000</td>\n",
       "    </tr>\n",
       "    <tr>\n",
       "      <th>max</th>\n",
       "      <td>15.900000</td>\n",
       "      <td>1.580000</td>\n",
       "      <td>1.000000</td>\n",
       "      <td>15.500000</td>\n",
       "      <td>0.611000</td>\n",
       "      <td>72.000000</td>\n",
       "      <td>289.000000</td>\n",
       "      <td>1.003690</td>\n",
       "      <td>4.010000</td>\n",
       "      <td>2.000000</td>\n",
       "      <td>14.900000</td>\n",
       "      <td>8.000000</td>\n",
       "    </tr>\n",
       "  </tbody>\n",
       "</table>\n",
       "</div>"
      ],
      "text/plain": [
       "       fixed acidity  volatile acidity  citric acid  residual sugar  \\\n",
       "count    1599.000000       1599.000000  1599.000000     1599.000000   \n",
       "mean        8.319637          0.527821     0.270976        2.538806   \n",
       "std         1.741096          0.179060     0.194801        1.409928   \n",
       "min         4.600000          0.120000     0.000000        0.900000   \n",
       "25%         7.100000          0.390000     0.090000        1.900000   \n",
       "50%         7.900000          0.520000     0.260000        2.200000   \n",
       "75%         9.200000          0.640000     0.420000        2.600000   \n",
       "max        15.900000          1.580000     1.000000       15.500000   \n",
       "\n",
       "         chlorides  free sulfur dioxide  total sulfur dioxide      density  \\\n",
       "count  1599.000000          1599.000000           1599.000000  1599.000000   \n",
       "mean      0.087467            15.874922             46.467792     0.996747   \n",
       "std       0.047065            10.460157             32.895324     0.001887   \n",
       "min       0.012000             1.000000              6.000000     0.990070   \n",
       "25%       0.070000             7.000000             22.000000     0.995600   \n",
       "50%       0.079000            14.000000             38.000000     0.996750   \n",
       "75%       0.090000            21.000000             62.000000     0.997835   \n",
       "max       0.611000            72.000000            289.000000     1.003690   \n",
       "\n",
       "                pH    sulphates      alcohol      quality  \n",
       "count  1599.000000  1599.000000  1599.000000  1599.000000  \n",
       "mean      3.311113     0.658149    10.422983     5.636023  \n",
       "std       0.154386     0.169507     1.065668     0.807569  \n",
       "min       2.740000     0.330000     8.400000     3.000000  \n",
       "25%       3.210000     0.550000     9.500000     5.000000  \n",
       "50%       3.310000     0.620000    10.200000     6.000000  \n",
       "75%       3.400000     0.730000    11.100000     6.000000  \n",
       "max       4.010000     2.000000    14.900000     8.000000  "
      ]
     },
     "execution_count": 5,
     "metadata": {},
     "output_type": "execute_result"
    }
   ],
   "source": [
    "data.describe()"
   ]
  },
  {
   "cell_type": "code",
   "execution_count": 6,
   "id": "c5c5302b",
   "metadata": {
    "execution": {
     "iopub.execute_input": "2021-10-13T15:02:05.400316Z",
     "iopub.status.busy": "2021-10-13T15:02:05.399714Z",
     "iopub.status.idle": "2021-10-13T15:02:05.405820Z",
     "shell.execute_reply": "2021-10-13T15:02:05.406451Z",
     "shell.execute_reply.started": "2021-10-13T15:01:18.845287Z"
    },
    "papermill": {
     "duration": 0.045132,
     "end_time": "2021-10-13T15:02:05.406618",
     "exception": false,
     "start_time": "2021-10-13T15:02:05.361486",
     "status": "completed"
    },
    "tags": []
   },
   "outputs": [
    {
     "data": {
      "text/plain": [
       "5    681\n",
       "6    638\n",
       "7    199\n",
       "4     53\n",
       "8     18\n",
       "3     10\n",
       "Name: quality, dtype: int64"
      ]
     },
     "execution_count": 6,
     "metadata": {},
     "output_type": "execute_result"
    }
   ],
   "source": [
    "data.quality.value_counts()"
   ]
  },
  {
   "cell_type": "code",
   "execution_count": 7,
   "id": "5649b75c",
   "metadata": {
    "execution": {
     "iopub.execute_input": "2021-10-13T15:02:05.481886Z",
     "iopub.status.busy": "2021-10-13T15:02:05.480904Z",
     "iopub.status.idle": "2021-10-13T15:02:05.693201Z",
     "shell.execute_reply": "2021-10-13T15:02:05.692674Z",
     "shell.execute_reply.started": "2021-10-13T15:01:18.854437Z"
    },
    "papermill": {
     "duration": 0.251243,
     "end_time": "2021-10-13T15:02:05.693343",
     "exception": false,
     "start_time": "2021-10-13T15:02:05.442100",
     "status": "completed"
    },
    "tags": []
   },
   "outputs": [
    {
     "data": {
      "text/plain": [
       "Text(0, 0.5, 'counts')"
      ]
     },
     "execution_count": 7,
     "metadata": {},
     "output_type": "execute_result"
    },
    {
     "data": {
      "image/png": "[encoded data removed]",
      "text/plain": [
       "<Figure size 432x288 with 1 Axes>"
      ]
     },
     "metadata": {
      "needs_background": "light"
     },
     "output_type": "display_data"
    }
   ],
   "source": [
    "counts = data.quality.value_counts()\n",
    "sns.barplot(x=counts.index, y=counts)\n",
    "plt.xlabel('quality')\n",
    "plt.ylabel('counts')"
   ]
  },
  {
   "cell_type": "code",
   "execution_count": 8,
   "id": "541fb6b2",
   "metadata": {
    "execution": {
     "iopub.execute_input": "2021-10-13T15:02:05.784822Z",
     "iopub.status.busy": "2021-10-13T15:02:05.777022Z",
     "iopub.status.idle": "2021-10-13T15:02:05.789943Z",
     "shell.execute_reply": "2021-10-13T15:02:05.789440Z",
     "shell.execute_reply.started": "2021-10-13T15:01:19.079787Z"
    },
    "papermill": {
     "duration": 0.060071,
     "end_time": "2021-10-13T15:02:05.790080",
     "exception": false,
     "start_time": "2021-10-13T15:02:05.730009",
     "status": "completed"
    },
    "tags": []
   },
   "outputs": [
    {
     "data": {
      "text/html": [
       "<div>\n",
       "<style scoped>\n",
       "    .dataframe tbody tr th:only-of-type {\n",
       "        vertical-align: middle;\n",
       "    }\n",
       "\n",
       "    .dataframe tbody tr th {\n",
       "        vertical-align: top;\n",
       "    }\n",
       "\n",
       "    .dataframe thead th {\n",
       "        text-align: right;\n",
       "    }\n",
       "</style>\n",
       "<table border=\"1\" class=\"dataframe\">\n",
       "  <thead>\n",
       "    <tr style=\"text-align: right;\">\n",
       "      <th></th>\n",
       "      <th>fixed acidity</th>\n",
       "      <th>volatile acidity</th>\n",
       "      <th>citric acid</th>\n",
       "      <th>residual sugar</th>\n",
       "      <th>chlorides</th>\n",
       "      <th>free sulfur dioxide</th>\n",
       "      <th>total sulfur dioxide</th>\n",
       "      <th>density</th>\n",
       "      <th>pH</th>\n",
       "      <th>sulphates</th>\n",
       "      <th>alcohol</th>\n",
       "      <th>quality</th>\n",
       "    </tr>\n",
       "  </thead>\n",
       "  <tbody>\n",
       "    <tr>\n",
       "      <th>0</th>\n",
       "      <td>7.4</td>\n",
       "      <td>0.70</td>\n",
       "      <td>0.00</td>\n",
       "      <td>1.9</td>\n",
       "      <td>0.076</td>\n",
       "      <td>11.0</td>\n",
       "      <td>34.0</td>\n",
       "      <td>0.9978</td>\n",
       "      <td>3.51</td>\n",
       "      <td>0.56</td>\n",
       "      <td>9.4</td>\n",
       "      <td>5</td>\n",
       "    </tr>\n",
       "    <tr>\n",
       "      <th>1</th>\n",
       "      <td>7.8</td>\n",
       "      <td>0.88</td>\n",
       "      <td>0.00</td>\n",
       "      <td>2.6</td>\n",
       "      <td>0.098</td>\n",
       "      <td>25.0</td>\n",
       "      <td>67.0</td>\n",
       "      <td>0.9968</td>\n",
       "      <td>3.20</td>\n",
       "      <td>0.68</td>\n",
       "      <td>9.8</td>\n",
       "      <td>5</td>\n",
       "    </tr>\n",
       "    <tr>\n",
       "      <th>2</th>\n",
       "      <td>7.8</td>\n",
       "      <td>0.76</td>\n",
       "      <td>0.04</td>\n",
       "      <td>2.3</td>\n",
       "      <td>0.092</td>\n",
       "      <td>15.0</td>\n",
       "      <td>54.0</td>\n",
       "      <td>0.9970</td>\n",
       "      <td>3.26</td>\n",
       "      <td>0.65</td>\n",
       "      <td>9.8</td>\n",
       "      <td>5</td>\n",
       "    </tr>\n",
       "    <tr>\n",
       "      <th>3</th>\n",
       "      <td>11.2</td>\n",
       "      <td>0.28</td>\n",
       "      <td>0.56</td>\n",
       "      <td>1.9</td>\n",
       "      <td>0.075</td>\n",
       "      <td>17.0</td>\n",
       "      <td>60.0</td>\n",
       "      <td>0.9980</td>\n",
       "      <td>3.16</td>\n",
       "      <td>0.58</td>\n",
       "      <td>9.8</td>\n",
       "      <td>6</td>\n",
       "    </tr>\n",
       "    <tr>\n",
       "      <th>4</th>\n",
       "      <td>7.4</td>\n",
       "      <td>0.70</td>\n",
       "      <td>0.00</td>\n",
       "      <td>1.9</td>\n",
       "      <td>0.076</td>\n",
       "      <td>11.0</td>\n",
       "      <td>34.0</td>\n",
       "      <td>0.9978</td>\n",
       "      <td>3.51</td>\n",
       "      <td>0.56</td>\n",
       "      <td>9.4</td>\n",
       "      <td>5</td>\n",
       "    </tr>\n",
       "  </tbody>\n",
       "</table>\n",
       "</div>"
      ],
      "text/plain": [
       "   fixed acidity  volatile acidity  citric acid  residual sugar  chlorides  \\\n",
       "0            7.4              0.70         0.00             1.9      0.076   \n",
       "1            7.8              0.88         0.00             2.6      0.098   \n",
       "2            7.8              0.76         0.04             2.3      0.092   \n",
       "3           11.2              0.28         0.56             1.9      0.075   \n",
       "4            7.4              0.70         0.00             1.9      0.076   \n",
       "\n",
       "   free sulfur dioxide  total sulfur dioxide  density    pH  sulphates  \\\n",
       "0                 11.0                  34.0   0.9978  3.51       0.56   \n",
       "1                 25.0                  67.0   0.9968  3.20       0.68   \n",
       "2                 15.0                  54.0   0.9970  3.26       0.65   \n",
       "3                 17.0                  60.0   0.9980  3.16       0.58   \n",
       "4                 11.0                  34.0   0.9978  3.51       0.56   \n",
       "\n",
       "   alcohol  quality  \n",
       "0      9.4        5  \n",
       "1      9.8        5  \n",
       "2      9.8        5  \n",
       "3      9.8        6  \n",
       "4      9.4        5  "
      ]
     },
     "execution_count": 8,
     "metadata": {},
     "output_type": "execute_result"
    }
   ],
   "source": [
    "data.head()"
   ]
  },
  {
   "cell_type": "code",
   "execution_count": 9,
   "id": "1c4c0a82",
   "metadata": {
    "execution": {
     "iopub.execute_input": "2021-10-13T15:02:05.896510Z",
     "iopub.status.busy": "2021-10-13T15:02:05.895819Z",
     "iopub.status.idle": "2021-10-13T15:02:05.898814Z",
     "shell.execute_reply": "2021-10-13T15:02:05.899328Z",
     "shell.execute_reply.started": "2021-10-13T15:01:19.098161Z"
    },
    "papermill": {
     "duration": 0.071558,
     "end_time": "2021-10-13T15:02:05.899517",
     "exception": false,
     "start_time": "2021-10-13T15:02:05.827959",
     "status": "completed"
    },
    "tags": []
   },
   "outputs": [
    {
     "data": {
      "text/html": [
       "<div>\n",
       "<style scoped>\n",
       "    .dataframe tbody tr th:only-of-type {\n",
       "        vertical-align: middle;\n",
       "    }\n",
       "\n",
       "    .dataframe tbody tr th {\n",
       "        vertical-align: top;\n",
       "    }\n",
       "\n",
       "    .dataframe thead th {\n",
       "        text-align: right;\n",
       "    }\n",
       "</style>\n",
       "<table border=\"1\" class=\"dataframe\">\n",
       "  <thead>\n",
       "    <tr style=\"text-align: right;\">\n",
       "      <th></th>\n",
       "      <th>fixed acidity</th>\n",
       "      <th>volatile acidity</th>\n",
       "      <th>citric acid</th>\n",
       "      <th>residual sugar</th>\n",
       "      <th>chlorides</th>\n",
       "      <th>free sulfur dioxide</th>\n",
       "      <th>total sulfur dioxide</th>\n",
       "      <th>density</th>\n",
       "      <th>pH</th>\n",
       "      <th>sulphates</th>\n",
       "      <th>alcohol</th>\n",
       "      <th>quality</th>\n",
       "    </tr>\n",
       "  </thead>\n",
       "  <tbody>\n",
       "    <tr>\n",
       "      <th>0</th>\n",
       "      <td>7.4</td>\n",
       "      <td>0.700</td>\n",
       "      <td>0.00</td>\n",
       "      <td>1.9</td>\n",
       "      <td>0.076</td>\n",
       "      <td>11.0</td>\n",
       "      <td>34.0</td>\n",
       "      <td>0.9978</td>\n",
       "      <td>3.51</td>\n",
       "      <td>0.56</td>\n",
       "      <td>9.4</td>\n",
       "      <td>0</td>\n",
       "    </tr>\n",
       "    <tr>\n",
       "      <th>1</th>\n",
       "      <td>7.8</td>\n",
       "      <td>0.880</td>\n",
       "      <td>0.00</td>\n",
       "      <td>2.6</td>\n",
       "      <td>0.098</td>\n",
       "      <td>25.0</td>\n",
       "      <td>67.0</td>\n",
       "      <td>0.9968</td>\n",
       "      <td>3.20</td>\n",
       "      <td>0.68</td>\n",
       "      <td>9.8</td>\n",
       "      <td>0</td>\n",
       "    </tr>\n",
       "    <tr>\n",
       "      <th>2</th>\n",
       "      <td>7.8</td>\n",
       "      <td>0.760</td>\n",
       "      <td>0.04</td>\n",
       "      <td>2.3</td>\n",
       "      <td>0.092</td>\n",
       "      <td>15.0</td>\n",
       "      <td>54.0</td>\n",
       "      <td>0.9970</td>\n",
       "      <td>3.26</td>\n",
       "      <td>0.65</td>\n",
       "      <td>9.8</td>\n",
       "      <td>0</td>\n",
       "    </tr>\n",
       "    <tr>\n",
       "      <th>3</th>\n",
       "      <td>11.2</td>\n",
       "      <td>0.280</td>\n",
       "      <td>0.56</td>\n",
       "      <td>1.9</td>\n",
       "      <td>0.075</td>\n",
       "      <td>17.0</td>\n",
       "      <td>60.0</td>\n",
       "      <td>0.9980</td>\n",
       "      <td>3.16</td>\n",
       "      <td>0.58</td>\n",
       "      <td>9.8</td>\n",
       "      <td>0</td>\n",
       "    </tr>\n",
       "    <tr>\n",
       "      <th>4</th>\n",
       "      <td>7.4</td>\n",
       "      <td>0.700</td>\n",
       "      <td>0.00</td>\n",
       "      <td>1.9</td>\n",
       "      <td>0.076</td>\n",
       "      <td>11.0</td>\n",
       "      <td>34.0</td>\n",
       "      <td>0.9978</td>\n",
       "      <td>3.51</td>\n",
       "      <td>0.56</td>\n",
       "      <td>9.4</td>\n",
       "      <td>0</td>\n",
       "    </tr>\n",
       "    <tr>\n",
       "      <th>5</th>\n",
       "      <td>7.4</td>\n",
       "      <td>0.660</td>\n",
       "      <td>0.00</td>\n",
       "      <td>1.8</td>\n",
       "      <td>0.075</td>\n",
       "      <td>13.0</td>\n",
       "      <td>40.0</td>\n",
       "      <td>0.9978</td>\n",
       "      <td>3.51</td>\n",
       "      <td>0.56</td>\n",
       "      <td>9.4</td>\n",
       "      <td>0</td>\n",
       "    </tr>\n",
       "    <tr>\n",
       "      <th>6</th>\n",
       "      <td>7.9</td>\n",
       "      <td>0.600</td>\n",
       "      <td>0.06</td>\n",
       "      <td>1.6</td>\n",
       "      <td>0.069</td>\n",
       "      <td>15.0</td>\n",
       "      <td>59.0</td>\n",
       "      <td>0.9964</td>\n",
       "      <td>3.30</td>\n",
       "      <td>0.46</td>\n",
       "      <td>9.4</td>\n",
       "      <td>0</td>\n",
       "    </tr>\n",
       "    <tr>\n",
       "      <th>7</th>\n",
       "      <td>7.3</td>\n",
       "      <td>0.650</td>\n",
       "      <td>0.00</td>\n",
       "      <td>1.2</td>\n",
       "      <td>0.065</td>\n",
       "      <td>15.0</td>\n",
       "      <td>21.0</td>\n",
       "      <td>0.9946</td>\n",
       "      <td>3.39</td>\n",
       "      <td>0.47</td>\n",
       "      <td>10.0</td>\n",
       "      <td>1</td>\n",
       "    </tr>\n",
       "    <tr>\n",
       "      <th>8</th>\n",
       "      <td>7.8</td>\n",
       "      <td>0.580</td>\n",
       "      <td>0.02</td>\n",
       "      <td>2.0</td>\n",
       "      <td>0.073</td>\n",
       "      <td>9.0</td>\n",
       "      <td>18.0</td>\n",
       "      <td>0.9968</td>\n",
       "      <td>3.36</td>\n",
       "      <td>0.57</td>\n",
       "      <td>9.5</td>\n",
       "      <td>1</td>\n",
       "    </tr>\n",
       "    <tr>\n",
       "      <th>9</th>\n",
       "      <td>7.5</td>\n",
       "      <td>0.500</td>\n",
       "      <td>0.36</td>\n",
       "      <td>6.1</td>\n",
       "      <td>0.071</td>\n",
       "      <td>17.0</td>\n",
       "      <td>102.0</td>\n",
       "      <td>0.9978</td>\n",
       "      <td>3.35</td>\n",
       "      <td>0.80</td>\n",
       "      <td>10.5</td>\n",
       "      <td>0</td>\n",
       "    </tr>\n",
       "    <tr>\n",
       "      <th>10</th>\n",
       "      <td>6.7</td>\n",
       "      <td>0.580</td>\n",
       "      <td>0.08</td>\n",
       "      <td>1.8</td>\n",
       "      <td>0.097</td>\n",
       "      <td>15.0</td>\n",
       "      <td>65.0</td>\n",
       "      <td>0.9959</td>\n",
       "      <td>3.28</td>\n",
       "      <td>0.54</td>\n",
       "      <td>9.2</td>\n",
       "      <td>0</td>\n",
       "    </tr>\n",
       "    <tr>\n",
       "      <th>11</th>\n",
       "      <td>7.5</td>\n",
       "      <td>0.500</td>\n",
       "      <td>0.36</td>\n",
       "      <td>6.1</td>\n",
       "      <td>0.071</td>\n",
       "      <td>17.0</td>\n",
       "      <td>102.0</td>\n",
       "      <td>0.9978</td>\n",
       "      <td>3.35</td>\n",
       "      <td>0.80</td>\n",
       "      <td>10.5</td>\n",
       "      <td>0</td>\n",
       "    </tr>\n",
       "    <tr>\n",
       "      <th>12</th>\n",
       "      <td>5.6</td>\n",
       "      <td>0.615</td>\n",
       "      <td>0.00</td>\n",
       "      <td>1.6</td>\n",
       "      <td>0.089</td>\n",
       "      <td>16.0</td>\n",
       "      <td>59.0</td>\n",
       "      <td>0.9943</td>\n",
       "      <td>3.58</td>\n",
       "      <td>0.52</td>\n",
       "      <td>9.9</td>\n",
       "      <td>0</td>\n",
       "    </tr>\n",
       "    <tr>\n",
       "      <th>13</th>\n",
       "      <td>7.8</td>\n",
       "      <td>0.610</td>\n",
       "      <td>0.29</td>\n",
       "      <td>1.6</td>\n",
       "      <td>0.114</td>\n",
       "      <td>9.0</td>\n",
       "      <td>29.0</td>\n",
       "      <td>0.9974</td>\n",
       "      <td>3.26</td>\n",
       "      <td>1.56</td>\n",
       "      <td>9.1</td>\n",
       "      <td>0</td>\n",
       "    </tr>\n",
       "    <tr>\n",
       "      <th>14</th>\n",
       "      <td>8.9</td>\n",
       "      <td>0.620</td>\n",
       "      <td>0.18</td>\n",
       "      <td>3.8</td>\n",
       "      <td>0.176</td>\n",
       "      <td>52.0</td>\n",
       "      <td>145.0</td>\n",
       "      <td>0.9986</td>\n",
       "      <td>3.16</td>\n",
       "      <td>0.88</td>\n",
       "      <td>9.2</td>\n",
       "      <td>0</td>\n",
       "    </tr>\n",
       "  </tbody>\n",
       "</table>\n",
       "</div>"
      ],
      "text/plain": [
       "    fixed acidity  volatile acidity  citric acid  residual sugar  chlorides  \\\n",
       "0             7.4             0.700         0.00             1.9      0.076   \n",
       "1             7.8             0.880         0.00             2.6      0.098   \n",
       "2             7.8             0.760         0.04             2.3      0.092   \n",
       "3            11.2             0.280         0.56             1.9      0.075   \n",
       "4             7.4             0.700         0.00             1.9      0.076   \n",
       "5             7.4             0.660         0.00             1.8      0.075   \n",
       "6             7.9             0.600         0.06             1.6      0.069   \n",
       "7             7.3             0.650         0.00             1.2      0.065   \n",
       "8             7.8             0.580         0.02             2.0      0.073   \n",
       "9             7.5             0.500         0.36             6.1      0.071   \n",
       "10            6.7             0.580         0.08             1.8      0.097   \n",
       "11            7.5             0.500         0.36             6.1      0.071   \n",
       "12            5.6             0.615         0.00             1.6      0.089   \n",
       "13            7.8             0.610         0.29             1.6      0.114   \n",
       "14            8.9             0.620         0.18             3.8      0.176   \n",
       "\n",
       "    free sulfur dioxide  total sulfur dioxide  density    pH  sulphates  \\\n",
       "0                  11.0                  34.0   0.9978  3.51       0.56   \n",
       "1                  25.0                  67.0   0.9968  3.20       0.68   \n",
       "2                  15.0                  54.0   0.9970  3.26       0.65   \n",
       "3                  17.0                  60.0   0.9980  3.16       0.58   \n",
       "4                  11.0                  34.0   0.9978  3.51       0.56   \n",
       "5                  13.0                  40.0   0.9978  3.51       0.56   \n",
       "6                  15.0                  59.0   0.9964  3.30       0.46   \n",
       "7                  15.0                  21.0   0.9946  3.39       0.47   \n",
       "8                   9.0                  18.0   0.9968  3.36       0.57   \n",
       "9                  17.0                 102.0   0.9978  3.35       0.80   \n",
       "10                 15.0                  65.0   0.9959  3.28       0.54   \n",
       "11                 17.0                 102.0   0.9978  3.35       0.80   \n",
       "12                 16.0                  59.0   0.9943  3.58       0.52   \n",
       "13                  9.0                  29.0   0.9974  3.26       1.56   \n",
       "14                 52.0                 145.0   0.9986  3.16       0.88   \n",
       "\n",
       "    alcohol  quality  \n",
       "0       9.4        0  \n",
       "1       9.8        0  \n",
       "2       9.8        0  \n",
       "3       9.8        0  \n",
       "4       9.4        0  \n",
       "5       9.4        0  \n",
       "6       9.4        0  \n",
       "7      10.0        1  \n",
       "8       9.5        1  \n",
       "9      10.5        0  \n",
       "10      9.2        0  \n",
       "11     10.5        0  \n",
       "12      9.9        0  \n",
       "13      9.1        0  \n",
       "14      9.2        0  "
      ]
     },
     "execution_count": 9,
     "metadata": {},
     "output_type": "execute_result"
    }
   ],
   "source": [
    "data['quality']=data.quality.apply(lambda x:1 if x>=7 else 0)\n",
    "data.head(15)"
   ]
  },
  {
   "cell_type": "code",
   "execution_count": 10,
   "id": "7c050161",
   "metadata": {
    "execution": {
     "iopub.execute_input": "2021-10-13T15:02:05.980689Z",
     "iopub.status.busy": "2021-10-13T15:02:05.980053Z",
     "iopub.status.idle": "2021-10-13T15:02:05.985897Z",
     "shell.execute_reply": "2021-10-13T15:02:05.986527Z",
     "shell.execute_reply.started": "2021-10-13T15:01:19.126405Z"
    },
    "papermill": {
     "duration": 0.04816,
     "end_time": "2021-10-13T15:02:05.986713",
     "exception": false,
     "start_time": "2021-10-13T15:02:05.938553",
     "status": "completed"
    },
    "tags": []
   },
   "outputs": [
    {
     "data": {
      "text/plain": [
       "0    1382\n",
       "1     217\n",
       "Name: quality, dtype: int64"
      ]
     },
     "execution_count": 10,
     "metadata": {},
     "output_type": "execute_result"
    }
   ],
   "source": [
    "data.quality.value_counts()"
   ]
  },
  {
   "cell_type": "code",
   "execution_count": 11,
   "id": "1e400e89",
   "metadata": {
    "execution": {
     "iopub.execute_input": "2021-10-13T15:02:06.067000Z",
     "iopub.status.busy": "2021-10-13T15:02:06.066400Z",
     "iopub.status.idle": "2021-10-13T15:02:06.071825Z",
     "shell.execute_reply": "2021-10-13T15:02:06.071273Z",
     "shell.execute_reply.started": "2021-10-13T15:01:19.135067Z"
    },
    "papermill": {
     "duration": 0.046743,
     "end_time": "2021-10-13T15:02:06.071962",
     "exception": false,
     "start_time": "2021-10-13T15:02:06.025219",
     "status": "completed"
    },
    "tags": []
   },
   "outputs": [],
   "source": [
    "X = data.drop('quality',axis=1)\n",
    "y = data['quality']"
   ]
  },
  {
   "cell_type": "code",
   "execution_count": 12,
   "id": "a78bada0",
   "metadata": {
    "execution": {
     "iopub.execute_input": "2021-10-13T15:02:06.156012Z",
     "iopub.status.busy": "2021-10-13T15:02:06.155240Z",
     "iopub.status.idle": "2021-10-13T15:02:06.158518Z",
     "shell.execute_reply": "2021-10-13T15:02:06.159057Z",
     "shell.execute_reply.started": "2021-10-13T15:01:19.146368Z"
    },
    "papermill": {
     "duration": 0.048606,
     "end_time": "2021-10-13T15:02:06.159226",
     "exception": false,
     "start_time": "2021-10-13T15:02:06.110620",
     "status": "completed"
    },
    "tags": []
   },
   "outputs": [],
   "source": [
    "X_train, X_test, y_train, y_test = train_test_split(X, y, test_size=0.2, random_state=12)"
   ]
  },
  {
   "cell_type": "code",
   "execution_count": 13,
   "id": "c341d3e8",
   "metadata": {
    "execution": {
     "iopub.execute_input": "2021-10-13T15:02:06.244261Z",
     "iopub.status.busy": "2021-10-13T15:02:06.240385Z",
     "iopub.status.idle": "2021-10-13T15:02:06.247910Z",
     "shell.execute_reply": "2021-10-13T15:02:06.247409Z",
     "shell.execute_reply.started": "2021-10-13T15:01:19.161920Z"
    },
    "papermill": {
     "duration": 0.049533,
     "end_time": "2021-10-13T15:02:06.248052",
     "exception": false,
     "start_time": "2021-10-13T15:02:06.198519",
     "status": "completed"
    },
    "tags": []
   },
   "outputs": [
    {
     "data": {
      "text/plain": [
       "0    1103\n",
       "1     176\n",
       "Name: quality, dtype: int64"
      ]
     },
     "execution_count": 13,
     "metadata": {},
     "output_type": "execute_result"
    }
   ],
   "source": [
    "y_train.value_counts()"
   ]
  },
  {
   "cell_type": "code",
   "execution_count": 14,
   "id": "446d2b08",
   "metadata": {
    "execution": {
     "iopub.execute_input": "2021-10-13T15:02:06.334011Z",
     "iopub.status.busy": "2021-10-13T15:02:06.333233Z",
     "iopub.status.idle": "2021-10-13T15:02:06.336360Z",
     "shell.execute_reply": "2021-10-13T15:02:06.336877Z",
     "shell.execute_reply.started": "2021-10-13T15:01:19.177123Z"
    },
    "papermill": {
     "duration": 0.049299,
     "end_time": "2021-10-13T15:02:06.337064",
     "exception": false,
     "start_time": "2021-10-13T15:02:06.287765",
     "status": "completed"
    },
    "tags": []
   },
   "outputs": [
    {
     "data": {
      "text/plain": [
       "0    279\n",
       "1     41\n",
       "Name: quality, dtype: int64"
      ]
     },
     "execution_count": 14,
     "metadata": {},
     "output_type": "execute_result"
    }
   ],
   "source": [
    "y_test.value_counts()"
   ]
  },
  {
   "cell_type": "markdown",
   "id": "93a4751a",
   "metadata": {
    "papermill": {
     "duration": 0.038536,
     "end_time": "2021-10-13T15:02:06.414427",
     "exception": false,
     "start_time": "2021-10-13T15:02:06.375891",
     "status": "completed"
    },
    "tags": []
   },
   "source": [
    "# Feature Scaling"
   ]
  },
  {
   "cell_type": "code",
   "execution_count": 15,
   "id": "de32101c",
   "metadata": {
    "execution": {
     "iopub.execute_input": "2021-10-13T15:02:06.500495Z",
     "iopub.status.busy": "2021-10-13T15:02:06.499513Z",
     "iopub.status.idle": "2021-10-13T15:02:06.508054Z",
     "shell.execute_reply": "2021-10-13T15:02:06.507410Z",
     "shell.execute_reply.started": "2021-10-13T15:01:19.188224Z"
    },
    "papermill": {
     "duration": 0.054621,
     "end_time": "2021-10-13T15:02:06.508207",
     "exception": false,
     "start_time": "2021-10-13T15:02:06.453586",
     "status": "completed"
    },
    "tags": []
   },
   "outputs": [],
   "source": [
    "from sklearn.preprocessing import StandardScaler\n",
    "scaler = StandardScaler()\n",
    "X_train = scaler.fit_transform(X_train)\n",
    "X_test = scaler.fit_transform(X_test)"
   ]
  },
  {
   "cell_type": "markdown",
   "id": "80cc12e9",
   "metadata": {
    "papermill": {
     "duration": 0.038632,
     "end_time": "2021-10-13T15:02:06.585911",
     "exception": false,
     "start_time": "2021-10-13T15:02:06.547279",
     "status": "completed"
    },
    "tags": []
   },
   "source": [
    "# Function"
   ]
  },
  {
   "cell_type": "code",
   "execution_count": 16,
   "id": "3ac1f130",
   "metadata": {
    "execution": {
     "iopub.execute_input": "2021-10-13T15:02:06.670173Z",
     "iopub.status.busy": "2021-10-13T15:02:06.666223Z",
     "iopub.status.idle": "2021-10-13T15:02:06.671902Z",
     "shell.execute_reply": "2021-10-13T15:02:06.672435Z",
     "shell.execute_reply.started": "2021-10-13T15:01:19.202828Z"
    },
    "papermill": {
     "duration": 0.047949,
     "end_time": "2021-10-13T15:02:06.672617",
     "exception": false,
     "start_time": "2021-10-13T15:02:06.624668",
     "status": "completed"
    },
    "tags": []
   },
   "outputs": [],
   "source": [
    "def func(model):\n",
    "    model.fit(X_train, y_train)\n",
    "    pred = model.predict(X_test)\n",
    "    acc = accuracy_score(pred, y_test)\n",
    "    print('Test Accuracy : {:.2f}%'.format(acc*100))\n",
    "    print(classification_report(y_test, pred))\n",
    "    cf_matrix = confusion_matrix(y_test, pred)\n",
    "    sns.heatmap(cf_matrix/np.sum(cf_matrix), annot=True,fmt= '0.2%')\n",
    "    return acc"
   ]
  },
  {
   "cell_type": "markdown",
   "id": "45ce4d16",
   "metadata": {
    "papermill": {
     "duration": 0.038638,
     "end_time": "2021-10-13T15:02:06.750298",
     "exception": false,
     "start_time": "2021-10-13T15:02:06.711660",
     "status": "completed"
    },
    "tags": []
   },
   "source": [
    "# Logistic Regression"
   ]
  },
  {
   "cell_type": "code",
   "execution_count": 17,
   "id": "dd07e3f8",
   "metadata": {
    "execution": {
     "iopub.execute_input": "2021-10-13T15:02:06.833722Z",
     "iopub.status.busy": "2021-10-13T15:02:06.831606Z",
     "iopub.status.idle": "2021-10-13T15:02:07.208092Z",
     "shell.execute_reply": "2021-10-13T15:02:07.208630Z",
     "shell.execute_reply.started": "2021-10-13T15:01:19.212474Z"
    },
    "papermill": {
     "duration": 0.419153,
     "end_time": "2021-10-13T15:02:07.208817",
     "exception": false,
     "start_time": "2021-10-13T15:02:06.789664",
     "status": "completed"
    },
    "tags": []
   },
   "outputs": [
    {
     "name": "stdout",
     "output_type": "stream",
     "text": [
      "Test Accuracy : 86.56%\n",
      "              precision    recall  f1-score   support\n",
      "\n",
      "           0       0.90      0.96      0.93       279\n",
      "           1       0.45      0.24      0.32        41\n",
      "\n",
      "    accuracy                           0.87       320\n",
      "   macro avg       0.68      0.60      0.62       320\n",
      "weighted avg       0.84      0.87      0.85       320\n",
      "\n"
     ]
    },
    {
     "data": {
      "image/png": "[encoded data removed]",
      "text/plain": [
       "<Figure size 432x288 with 2 Axes>"
      ]
     },
     "metadata": {
      "needs_background": "light"
     },
     "output_type": "display_data"
    }
   ],
   "source": [
    "from sklearn.linear_model import LogisticRegression\n",
    "log_reg = LogisticRegression()\n",
    "acc_log_reg = func(log_reg)"
   ]
  },
  {
   "cell_type": "markdown",
   "id": "31814b89",
   "metadata": {
    "papermill": {
     "duration": 0.040746,
     "end_time": "2021-10-13T15:02:07.290073",
     "exception": false,
     "start_time": "2021-10-13T15:02:07.249327",
     "status": "completed"
    },
    "tags": []
   },
   "source": [
    "# Decision Tree Classifier"
   ]
  },
  {
   "cell_type": "code",
   "execution_count": 18,
   "id": "5b227600",
   "metadata": {
    "execution": {
     "iopub.execute_input": "2021-10-13T15:02:07.375446Z",
     "iopub.status.busy": "2021-10-13T15:02:07.374616Z",
     "iopub.status.idle": "2021-10-13T15:02:07.800447Z",
     "shell.execute_reply": "2021-10-13T15:02:07.800977Z",
     "shell.execute_reply.started": "2021-10-13T15:01:19.488307Z"
    },
    "papermill": {
     "duration": 0.470854,
     "end_time": "2021-10-13T15:02:07.801150",
     "exception": false,
     "start_time": "2021-10-13T15:02:07.330296",
     "status": "completed"
    },
    "tags": []
   },
   "outputs": [
    {
     "name": "stdout",
     "output_type": "stream",
     "text": [
      "Test Accuracy : 86.88%\n",
      "              precision    recall  f1-score   support\n",
      "\n",
      "           0       0.91      0.94      0.93       279\n",
      "           1       0.48      0.39      0.43        41\n",
      "\n",
      "    accuracy                           0.87       320\n",
      "   macro avg       0.70      0.66      0.68       320\n",
      "weighted avg       0.86      0.87      0.86       320\n",
      "\n"
     ]
    },
    {
     "data": {
      "image/png": "[encoded data removed]",
      "text/plain": [
       "<Figure size 432x288 with 2 Axes>"
      ]
     },
     "metadata": {
      "needs_background": "light"
     },
     "output_type": "display_data"
    }
   ],
   "source": [
    "from sklearn.tree import DecisionTreeClassifier\n",
    "model_dtc = DecisionTreeClassifier()\n",
    "acc_dtc = func(model_dtc)"
   ]
  },
  {
   "cell_type": "markdown",
   "id": "4bd06b59",
   "metadata": {
    "papermill": {
     "duration": 0.040937,
     "end_time": "2021-10-13T15:02:07.884908",
     "exception": false,
     "start_time": "2021-10-13T15:02:07.843971",
     "status": "completed"
    },
    "tags": []
   },
   "source": [
    "# Random Forest Classifier"
   ]
  },
  {
   "cell_type": "code",
   "execution_count": 19,
   "id": "b987a90a",
   "metadata": {
    "execution": {
     "iopub.execute_input": "2021-10-13T15:02:07.973318Z",
     "iopub.status.busy": "2021-10-13T15:02:07.972571Z",
     "iopub.status.idle": "2021-10-13T15:02:08.541810Z",
     "shell.execute_reply": "2021-10-13T15:02:08.542268Z",
     "shell.execute_reply.started": "2021-10-13T15:01:19.687386Z"
    },
    "papermill": {
     "duration": 0.616187,
     "end_time": "2021-10-13T15:02:08.542457",
     "exception": false,
     "start_time": "2021-10-13T15:02:07.926270",
     "status": "completed"
    },
    "tags": []
   },
   "outputs": [
    {
     "name": "stdout",
     "output_type": "stream",
     "text": [
      "Test Accuracy : 89.06%\n",
      "              precision    recall  f1-score   support\n",
      "\n",
      "           0       0.91      0.97      0.94       279\n",
      "           1       0.62      0.37      0.46        41\n",
      "\n",
      "    accuracy                           0.89       320\n",
      "   macro avg       0.77      0.67      0.70       320\n",
      "weighted avg       0.88      0.89      0.88       320\n",
      "\n"
     ]
    },
    {
     "data": {
      "image/png": "[encoded data removed]",
      "text/plain": [
       "<Figure size 432x288 with 2 Axes>"
      ]
     },
     "metadata": {
      "needs_background": "light"
     },
     "output_type": "display_data"
    }
   ],
   "source": [
    "from sklearn.ensemble import RandomForestClassifier\n",
    "model_rfc = RandomForestClassifier()\n",
    "acc_rfc = func(model_rfc)"
   ]
  },
  {
   "cell_type": "markdown",
   "id": "33cdf06c",
   "metadata": {
    "papermill": {
     "duration": 0.042025,
     "end_time": "2021-10-13T15:02:08.626833",
     "exception": false,
     "start_time": "2021-10-13T15:02:08.584808",
     "status": "completed"
    },
    "tags": []
   },
   "source": [
    "# SVC"
   ]
  },
  {
   "cell_type": "code",
   "execution_count": 20,
   "id": "8f785af5",
   "metadata": {
    "execution": {
     "iopub.execute_input": "2021-10-13T15:02:08.718486Z",
     "iopub.status.busy": "2021-10-13T15:02:08.717815Z",
     "iopub.status.idle": "2021-10-13T15:02:08.972282Z",
     "shell.execute_reply": "2021-10-13T15:02:08.971771Z",
     "shell.execute_reply.started": "2021-10-13T15:01:20.150007Z"
    },
    "papermill": {
     "duration": 0.303367,
     "end_time": "2021-10-13T15:02:08.972451",
     "exception": false,
     "start_time": "2021-10-13T15:02:08.669084",
     "status": "completed"
    },
    "tags": []
   },
   "outputs": [
    {
     "name": "stdout",
     "output_type": "stream",
     "text": [
      "Test Accuracy : 89.38%\n",
      "              precision    recall  f1-score   support\n",
      "\n",
      "           0       0.90      0.99      0.94       279\n",
      "           1       0.77      0.24      0.37        41\n",
      "\n",
      "    accuracy                           0.89       320\n",
      "   macro avg       0.83      0.62      0.66       320\n",
      "weighted avg       0.88      0.89      0.87       320\n",
      "\n"
     ]
    },
    {
     "data": {
      "image/png": "[encoded data removed]",
      "text/plain": [
       "<Figure size 432x288 with 2 Axes>"
      ]
     },
     "metadata": {
      "needs_background": "light"
     },
     "output_type": "display_data"
    }
   ],
   "source": [
    "from sklearn.svm import SVC\n",
    "model_SVC = SVC()\n",
    "acc_SVC = func(model_SVC)"
   ]
  },
  {
   "cell_type": "markdown",
   "id": "5f21dd3b",
   "metadata": {
    "papermill": {
     "duration": 0.045052,
     "end_time": "2021-10-13T15:02:09.061683",
     "exception": false,
     "start_time": "2021-10-13T15:02:09.016631",
     "status": "completed"
    },
    "tags": []
   },
   "source": [
    "# SGDClassifier"
   ]
  },
  {
   "cell_type": "code",
   "execution_count": 21,
   "id": "d8671f29",
   "metadata": {
    "execution": {
     "iopub.execute_input": "2021-10-13T15:02:09.158664Z",
     "iopub.status.busy": "2021-10-13T15:02:09.157956Z",
     "iopub.status.idle": "2021-10-13T15:02:09.376526Z",
     "shell.execute_reply": "2021-10-13T15:02:09.375982Z",
     "shell.execute_reply.started": "2021-10-13T15:01:20.382569Z"
    },
    "papermill": {
     "duration": 0.271088,
     "end_time": "2021-10-13T15:02:09.376688",
     "exception": false,
     "start_time": "2021-10-13T15:02:09.105600",
     "status": "completed"
    },
    "tags": []
   },
   "outputs": [
    {
     "name": "stdout",
     "output_type": "stream",
     "text": [
      "Test Accuracy : 87.50%\n",
      "              precision    recall  f1-score   support\n",
      "\n",
      "           0       0.90      0.96      0.93       279\n",
      "           1       0.52      0.29      0.38        41\n",
      "\n",
      "    accuracy                           0.88       320\n",
      "   macro avg       0.71      0.63      0.65       320\n",
      "weighted avg       0.85      0.88      0.86       320\n",
      "\n"
     ]
    },
    {
     "data": {
      "image/png": "[encoded data removed]",
      "text/plain": [
       "<Figure size 432x288 with 2 Axes>"
      ]
     },
     "metadata": {
      "needs_background": "light"
     },
     "output_type": "display_data"
    }
   ],
   "source": [
    "from sklearn.linear_model import SGDClassifier\n",
    "clf = SGDClassifier()\n",
    "acc_clf=func(clf)"
   ]
  },
  {
   "cell_type": "markdown",
   "id": "41c47f4f",
   "metadata": {
    "papermill": {
     "duration": 0.044389,
     "end_time": "2021-10-13T15:02:09.466496",
     "exception": false,
     "start_time": "2021-10-13T15:02:09.422107",
     "status": "completed"
    },
    "tags": []
   },
   "source": [
    "# Adaboost Classifier"
   ]
  },
  {
   "cell_type": "code",
   "execution_count": 22,
   "id": "a86891af",
   "metadata": {
    "execution": {
     "iopub.execute_input": "2021-10-13T15:02:09.563577Z",
     "iopub.status.busy": "2021-10-13T15:02:09.562774Z",
     "iopub.status.idle": "2021-10-13T15:02:09.925324Z",
     "shell.execute_reply": "2021-10-13T15:02:09.924672Z",
     "shell.execute_reply.started": "2021-10-13T15:01:20.632149Z"
    },
    "papermill": {
     "duration": 0.414201,
     "end_time": "2021-10-13T15:02:09.925497",
     "exception": false,
     "start_time": "2021-10-13T15:02:09.511296",
     "status": "completed"
    },
    "tags": []
   },
   "outputs": [
    {
     "name": "stdout",
     "output_type": "stream",
     "text": [
      "Test Accuracy : 86.25%\n",
      "              precision    recall  f1-score   support\n",
      "\n",
      "           0       0.90      0.94      0.92       279\n",
      "           1       0.45      0.32      0.37        41\n",
      "\n",
      "    accuracy                           0.86       320\n",
      "   macro avg       0.68      0.63      0.65       320\n",
      "weighted avg       0.85      0.86      0.85       320\n",
      "\n"
     ]
    },
    {
     "data": {
      "image/png": "[encoded data removed]",
      "text/plain": [
       "<Figure size 432x288 with 2 Axes>"
      ]
     },
     "metadata": {
      "needs_background": "light"
     },
     "output_type": "display_data"
    }
   ],
   "source": [
    "from sklearn.ensemble import AdaBoostClassifier\n",
    "model_adaB = AdaBoostClassifier()\n",
    "acc_adaB=func(model_adaB)"
   ]
  },
  {
   "cell_type": "markdown",
   "id": "3d6982b9",
   "metadata": {
    "papermill": {
     "duration": 0.045358,
     "end_time": "2021-10-13T15:02:10.016804",
     "exception": false,
     "start_time": "2021-10-13T15:02:09.971446",
     "status": "completed"
    },
    "tags": []
   },
   "source": [
    "# KNeighbors Classifier"
   ]
  },
  {
   "cell_type": "code",
   "execution_count": 23,
   "id": "2029879a",
   "metadata": {
    "execution": {
     "iopub.execute_input": "2021-10-13T15:02:10.117886Z",
     "iopub.status.busy": "2021-10-13T15:02:10.113095Z",
     "iopub.status.idle": "2021-10-13T15:02:10.352690Z",
     "shell.execute_reply": "2021-10-13T15:02:10.353199Z",
     "shell.execute_reply.started": "2021-10-13T15:01:21.003053Z"
    },
    "papermill": {
     "duration": 0.291113,
     "end_time": "2021-10-13T15:02:10.353402",
     "exception": false,
     "start_time": "2021-10-13T15:02:10.062289",
     "status": "completed"
    },
    "tags": []
   },
   "outputs": [
    {
     "name": "stdout",
     "output_type": "stream",
     "text": [
      "Test Accuracy : 86.88%\n",
      "              precision    recall  f1-score   support\n",
      "\n",
      "           0       0.90      0.95      0.93       279\n",
      "           1       0.48      0.32      0.38        41\n",
      "\n",
      "    accuracy                           0.87       320\n",
      "   macro avg       0.69      0.63      0.65       320\n",
      "weighted avg       0.85      0.87      0.86       320\n",
      "\n"
     ]
    },
    {
     "data": {
      "image/png": "[encoded data removed]",
      "text/plain": [
       "<Figure size 432x288 with 2 Axes>"
      ]
     },
     "metadata": {
      "needs_background": "light"
     },
     "output_type": "display_data"
    }
   ],
   "source": [
    "from sklearn.neighbors import KNeighborsClassifier\n",
    "model_neigh = KNeighborsClassifier()\n",
    "acc_neigh = func(model_neigh)"
   ]
  },
  {
   "cell_type": "markdown",
   "id": "0ad6afac",
   "metadata": {
    "papermill": {
     "duration": 0.046177,
     "end_time": "2021-10-13T15:02:10.445770",
     "exception": false,
     "start_time": "2021-10-13T15:02:10.399593",
     "status": "completed"
    },
    "tags": []
   },
   "source": [
    "# ExtraTreesClassifier"
   ]
  },
  {
   "cell_type": "code",
   "execution_count": 24,
   "id": "99e68e9c",
   "metadata": {
    "execution": {
     "iopub.execute_input": "2021-10-13T15:02:10.542932Z",
     "iopub.status.busy": "2021-10-13T15:02:10.541905Z",
     "iopub.status.idle": "2021-10-13T15:02:10.970420Z",
     "shell.execute_reply": "2021-10-13T15:02:10.971016Z",
     "shell.execute_reply.started": "2021-10-13T15:01:21.262537Z"
    },
    "papermill": {
     "duration": 0.478914,
     "end_time": "2021-10-13T15:02:10.971194",
     "exception": false,
     "start_time": "2021-10-13T15:02:10.492280",
     "status": "completed"
    },
    "tags": []
   },
   "outputs": [
    {
     "name": "stdout",
     "output_type": "stream",
     "text": [
      "Test Accuracy : 90.94%\n",
      "              precision    recall  f1-score   support\n",
      "\n",
      "           0       0.92      0.99      0.95       279\n",
      "           1       0.80      0.39      0.52        41\n",
      "\n",
      "    accuracy                           0.91       320\n",
      "   macro avg       0.86      0.69      0.74       320\n",
      "weighted avg       0.90      0.91      0.90       320\n",
      "\n"
     ]
    },
    {
     "data": {
      "image/png": "[encoded data removed]",
      "text/plain": [
       "<Figure size 432x288 with 2 Axes>"
      ]
     },
     "metadata": {
      "needs_background": "light"
     },
     "output_type": "display_data"
    }
   ],
   "source": [
    "from sklearn.ensemble import ExtraTreesClassifier\n",
    "model_xtc = ExtraTreesClassifier()\n",
    "acc_xtc = func(model_xtc)"
   ]
  },
  {
   "cell_type": "markdown",
   "id": "33e2f00c",
   "metadata": {
    "papermill": {
     "duration": 0.048203,
     "end_time": "2021-10-13T15:02:11.067998",
     "exception": false,
     "start_time": "2021-10-13T15:02:11.019795",
     "status": "completed"
    },
    "tags": []
   },
   "source": [
    "# BaggingClassifier"
   ]
  },
  {
   "cell_type": "code",
   "execution_count": 25,
   "id": "a95e180a",
   "metadata": {
    "execution": {
     "iopub.execute_input": "2021-10-13T15:02:11.167429Z",
     "iopub.status.busy": "2021-10-13T15:02:11.166438Z",
     "iopub.status.idle": "2021-10-13T15:02:11.451776Z",
     "shell.execute_reply": "2021-10-13T15:02:11.451194Z",
     "shell.execute_reply.started": "2021-10-13T15:01:21.683375Z"
    },
    "papermill": {
     "duration": 0.336232,
     "end_time": "2021-10-13T15:02:11.451917",
     "exception": false,
     "start_time": "2021-10-13T15:02:11.115685",
     "status": "completed"
    },
    "tags": []
   },
   "outputs": [
    {
     "name": "stdout",
     "output_type": "stream",
     "text": [
      "Test Accuracy : 87.50%\n",
      "              precision    recall  f1-score   support\n",
      "\n",
      "           0       0.92      0.94      0.93       279\n",
      "           1       0.52      0.41      0.46        41\n",
      "\n",
      "    accuracy                           0.88       320\n",
      "   macro avg       0.72      0.68      0.69       320\n",
      "weighted avg       0.86      0.88      0.87       320\n",
      "\n"
     ]
    },
    {
     "data": {
      "image/png": "[encoded data removed]",
      "text/plain": [
       "<Figure size 432x288 with 2 Axes>"
      ]
     },
     "metadata": {
      "needs_background": "light"
     },
     "output_type": "display_data"
    }
   ],
   "source": [
    "from sklearn.ensemble import BaggingClassifier\n",
    "model_bc = BaggingClassifier()\n",
    "acc_bc = func(model_bc)"
   ]
  },
  {
   "cell_type": "markdown",
   "id": "97adb132",
   "metadata": {
    "papermill": {
     "duration": 0.048992,
     "end_time": "2021-10-13T15:02:11.550227",
     "exception": false,
     "start_time": "2021-10-13T15:02:11.501235",
     "status": "completed"
    },
    "tags": []
   },
   "source": [
    "# GaussianNB"
   ]
  },
  {
   "cell_type": "code",
   "execution_count": 26,
   "id": "b2703f51",
   "metadata": {
    "execution": {
     "iopub.execute_input": "2021-10-13T15:02:11.653595Z",
     "iopub.status.busy": "2021-10-13T15:02:11.652906Z",
     "iopub.status.idle": "2021-10-13T15:02:11.868427Z",
     "shell.execute_reply": "2021-10-13T15:02:11.868909Z",
     "shell.execute_reply.started": "2021-10-13T15:01:21.992221Z"
    },
    "papermill": {
     "duration": 0.269824,
     "end_time": "2021-10-13T15:02:11.869093",
     "exception": false,
     "start_time": "2021-10-13T15:02:11.599269",
     "status": "completed"
    },
    "tags": []
   },
   "outputs": [
    {
     "name": "stdout",
     "output_type": "stream",
     "text": [
      "Test Accuracy : 84.38%\n",
      "              precision    recall  f1-score   support\n",
      "\n",
      "           0       0.94      0.88      0.91       279\n",
      "           1       0.42      0.61      0.50        41\n",
      "\n",
      "    accuracy                           0.84       320\n",
      "   macro avg       0.68      0.74      0.70       320\n",
      "weighted avg       0.87      0.84      0.86       320\n",
      "\n"
     ]
    },
    {
     "data": {
      "image/png": "[encoded data removed]",
      "text/plain": [
       "<Figure size 432x288 with 2 Axes>"
      ]
     },
     "metadata": {
      "needs_background": "light"
     },
     "output_type": "display_data"
    }
   ],
   "source": [
    "from sklearn.naive_bayes import GaussianNB\n",
    "model_GNB = GaussianNB()\n",
    "acc_GNB = func(model_GNB)"
   ]
  },
  {
   "cell_type": "markdown",
   "id": "9f9e71cf",
   "metadata": {
    "papermill": {
     "duration": 0.049859,
     "end_time": "2021-10-13T15:02:11.968769",
     "exception": false,
     "start_time": "2021-10-13T15:02:11.918910",
     "status": "completed"
    },
    "tags": []
   },
   "source": [
    "# LinearDiscriminantAnalysis"
   ]
  },
  {
   "cell_type": "code",
   "execution_count": 27,
   "id": "18943113",
   "metadata": {
    "execution": {
     "iopub.execute_input": "2021-10-13T15:02:12.073277Z",
     "iopub.status.busy": "2021-10-13T15:02:12.072333Z",
     "iopub.status.idle": "2021-10-13T15:02:12.310722Z",
     "shell.execute_reply": "2021-10-13T15:02:12.310047Z",
     "shell.execute_reply.started": "2021-10-13T15:01:22.233983Z"
    },
    "papermill": {
     "duration": 0.292265,
     "end_time": "2021-10-13T15:02:12.310869",
     "exception": false,
     "start_time": "2021-10-13T15:02:12.018604",
     "status": "completed"
    },
    "tags": []
   },
   "outputs": [
    {
     "name": "stdout",
     "output_type": "stream",
     "text": [
      "Test Accuracy : 85.94%\n",
      "              precision    recall  f1-score   support\n",
      "\n",
      "           0       0.90      0.94      0.92       279\n",
      "           1       0.43      0.32      0.37        41\n",
      "\n",
      "    accuracy                           0.86       320\n",
      "   macro avg       0.67      0.63      0.64       320\n",
      "weighted avg       0.84      0.86      0.85       320\n",
      "\n"
     ]
    },
    {
     "data": {
      "image/png": "[encoded data removed]",
      "text/plain": [
       "<Figure size 432x288 with 2 Axes>"
      ]
     },
     "metadata": {
      "needs_background": "light"
     },
     "output_type": "display_data"
    }
   ],
   "source": [
    "from sklearn.discriminant_analysis import LinearDiscriminantAnalysis\n",
    "model_LDA = LinearDiscriminantAnalysis()\n",
    "acc_LDA = func(model_LDA)"
   ]
  },
  {
   "cell_type": "markdown",
   "id": "795fca88",
   "metadata": {
    "papermill": {
     "duration": 0.050639,
     "end_time": "2021-10-13T15:02:12.412327",
     "exception": false,
     "start_time": "2021-10-13T15:02:12.361688",
     "status": "completed"
    },
    "tags": []
   },
   "source": [
    "# Gradient Boosting for classification"
   ]
  },
  {
   "cell_type": "code",
   "execution_count": 28,
   "id": "1139fc3e",
   "metadata": {
    "execution": {
     "iopub.execute_input": "2021-10-13T15:02:12.520035Z",
     "iopub.status.busy": "2021-10-13T15:02:12.519084Z",
     "iopub.status.idle": "2021-10-13T15:02:13.093853Z",
     "shell.execute_reply": "2021-10-13T15:02:13.093282Z",
     "shell.execute_reply.started": "2021-10-13T15:01:22.651651Z"
    },
    "papermill": {
     "duration": 0.631003,
     "end_time": "2021-10-13T15:02:13.093991",
     "exception": false,
     "start_time": "2021-10-13T15:02:12.462988",
     "status": "completed"
    },
    "tags": []
   },
   "outputs": [
    {
     "name": "stdout",
     "output_type": "stream",
     "text": [
      "Test Accuracy : 87.19%\n",
      "              precision    recall  f1-score   support\n",
      "\n",
      "           0       0.91      0.94      0.93       279\n",
      "           1       0.50      0.39      0.44        41\n",
      "\n",
      "    accuracy                           0.87       320\n",
      "   macro avg       0.71      0.67      0.68       320\n",
      "weighted avg       0.86      0.87      0.86       320\n",
      "\n"
     ]
    },
    {
     "data": {
      "image/png": "[encoded data removed]",
      "text/plain": [
       "<Figure size 432x288 with 2 Axes>"
      ]
     },
     "metadata": {
      "needs_background": "light"
     },
     "output_type": "display_data"
    }
   ],
   "source": [
    "from sklearn.ensemble import GradientBoostingClassifier\n",
    "model_GBC = GradientBoostingClassifier()\n",
    "acc_GBC = func(model_GBC)"
   ]
  },
  {
   "cell_type": "markdown",
   "id": "9725bfc1",
   "metadata": {
    "papermill": {
     "duration": 0.051722,
     "end_time": "2021-10-13T15:02:13.198037",
     "exception": false,
     "start_time": "2021-10-13T15:02:13.146315",
     "status": "completed"
    },
    "tags": []
   },
   "source": [
    "# Final Report"
   ]
  },
  {
   "cell_type": "code",
   "execution_count": 29,
   "id": "5170e388",
   "metadata": {
    "execution": {
     "iopub.execute_input": "2021-10-13T15:02:13.310600Z",
     "iopub.status.busy": "2021-10-13T15:02:13.309600Z",
     "iopub.status.idle": "2021-10-13T15:02:13.311966Z",
     "shell.execute_reply": "2021-10-13T15:02:13.312418Z",
     "shell.execute_reply.started": "2021-10-13T15:01:23.212125Z"
    },
    "papermill": {
     "duration": 0.062146,
     "end_time": "2021-10-13T15:02:13.312591",
     "exception": false,
     "start_time": "2021-10-13T15:02:13.250445",
     "status": "completed"
    },
    "tags": []
   },
   "outputs": [],
   "source": [
    "output = pd.DataFrame({\"Model\":['Logistic Regression','Decision Tree Classifier','Random Forest Classifier',\n",
    "                                'SVC','SGD Classifier','AdaBoost Classifier','KNeighbors Classifier',\n",
    "                               'Extra Trees Classifier','Bagging Classifier','Gaussian NB',\n",
    "                               'Linear Discriminant Analysis','Gradient Boosting for classification'],\n",
    "                      \"Accuracy\":[acc_log_reg, acc_dtc, acc_rfc, acc_SVC, acc_clf, acc_adaB,\n",
    "                                 acc_neigh, acc_xtc, acc_bc, acc_GNB, acc_LDA, acc_GBC]})"
   ]
  },
  {
   "cell_type": "code",
   "execution_count": 30,
   "id": "45e02ade",
   "metadata": {
    "execution": {
     "iopub.execute_input": "2021-10-13T15:02:13.427166Z",
     "iopub.status.busy": "2021-10-13T15:02:13.426324Z",
     "iopub.status.idle": "2021-10-13T15:02:13.429775Z",
     "shell.execute_reply": "2021-10-13T15:02:13.430235Z",
     "shell.execute_reply.started": "2021-10-13T15:01:23.225348Z"
    },
    "papermill": {
     "duration": 0.065245,
     "end_time": "2021-10-13T15:02:13.430429",
     "exception": false,
     "start_time": "2021-10-13T15:02:13.365184",
     "status": "completed"
    },
    "tags": []
   },
   "outputs": [
    {
     "data": {
      "text/html": [
       "<div>\n",
       "<style scoped>\n",
       "    .dataframe tbody tr th:only-of-type {\n",
       "        vertical-align: middle;\n",
       "    }\n",
       "\n",
       "    .dataframe tbody tr th {\n",
       "        vertical-align: top;\n",
       "    }\n",
       "\n",
       "    .dataframe thead th {\n",
       "        text-align: right;\n",
       "    }\n",
       "</style>\n",
       "<table border=\"1\" class=\"dataframe\">\n",
       "  <thead>\n",
       "    <tr style=\"text-align: right;\">\n",
       "      <th></th>\n",
       "      <th>Model</th>\n",
       "      <th>Accuracy</th>\n",
       "    </tr>\n",
       "  </thead>\n",
       "  <tbody>\n",
       "    <tr>\n",
       "      <th>0</th>\n",
       "      <td>Logistic Regression</td>\n",
       "      <td>0.865625</td>\n",
       "    </tr>\n",
       "    <tr>\n",
       "      <th>1</th>\n",
       "      <td>Decision Tree Classifier</td>\n",
       "      <td>0.868750</td>\n",
       "    </tr>\n",
       "    <tr>\n",
       "      <th>2</th>\n",
       "      <td>Random Forest Classifier</td>\n",
       "      <td>0.890625</td>\n",
       "    </tr>\n",
       "    <tr>\n",
       "      <th>3</th>\n",
       "      <td>SVC</td>\n",
       "      <td>0.893750</td>\n",
       "    </tr>\n",
       "    <tr>\n",
       "      <th>4</th>\n",
       "      <td>SGD Classifier</td>\n",
       "      <td>0.875000</td>\n",
       "    </tr>\n",
       "    <tr>\n",
       "      <th>5</th>\n",
       "      <td>AdaBoost Classifier</td>\n",
       "      <td>0.862500</td>\n",
       "    </tr>\n",
       "    <tr>\n",
       "      <th>6</th>\n",
       "      <td>KNeighbors Classifier</td>\n",
       "      <td>0.868750</td>\n",
       "    </tr>\n",
       "    <tr>\n",
       "      <th>7</th>\n",
       "      <td>Extra Trees Classifier</td>\n",
       "      <td>0.909375</td>\n",
       "    </tr>\n",
       "    <tr>\n",
       "      <th>8</th>\n",
       "      <td>Bagging Classifier</td>\n",
       "      <td>0.875000</td>\n",
       "    </tr>\n",
       "    <tr>\n",
       "      <th>9</th>\n",
       "      <td>Gaussian NB</td>\n",
       "      <td>0.843750</td>\n",
       "    </tr>\n",
       "    <tr>\n",
       "      <th>10</th>\n",
       "      <td>Linear Discriminant Analysis</td>\n",
       "      <td>0.859375</td>\n",
       "    </tr>\n",
       "    <tr>\n",
       "      <th>11</th>\n",
       "      <td>Gradient Boosting for classification</td>\n",
       "      <td>0.871875</td>\n",
       "    </tr>\n",
       "  </tbody>\n",
       "</table>\n",
       "</div>"
      ],
      "text/plain": [
       "                                   Model  Accuracy\n",
       "0                    Logistic Regression  0.865625\n",
       "1               Decision Tree Classifier  0.868750\n",
       "2               Random Forest Classifier  0.890625\n",
       "3                                    SVC  0.893750\n",
       "4                         SGD Classifier  0.875000\n",
       "5                    AdaBoost Classifier  0.862500\n",
       "6                  KNeighbors Classifier  0.868750\n",
       "7                 Extra Trees Classifier  0.909375\n",
       "8                     Bagging Classifier  0.875000\n",
       "9                            Gaussian NB  0.843750\n",
       "10          Linear Discriminant Analysis  0.859375\n",
       "11  Gradient Boosting for classification  0.871875"
      ]
     },
     "execution_count": 30,
     "metadata": {},
     "output_type": "execute_result"
    }
   ],
   "source": [
    "output"
   ]
  },
  {
   "cell_type": "code",
   "execution_count": 31,
   "id": "af91e541",
   "metadata": {
    "execution": {
     "iopub.execute_input": "2021-10-13T15:02:13.576194Z",
     "iopub.status.busy": "2021-10-13T15:02:13.573416Z",
     "iopub.status.idle": "2021-10-13T15:02:13.901807Z",
     "shell.execute_reply": "2021-10-13T15:02:13.901210Z",
     "shell.execute_reply.started": "2021-10-13T15:01:23.243148Z"
    },
    "papermill": {
     "duration": 0.419402,
     "end_time": "2021-10-13T15:02:13.901978",
     "exception": false,
     "start_time": "2021-10-13T15:02:13.482576",
     "status": "completed"
    },
    "tags": []
   },
   "outputs": [
    {
     "data": {
      "image/png": "[encoded data removed]",
      "text/plain": [
       "<Figure size 864x432 with 1 Axes>"
      ]
     },
     "metadata": {
      "needs_background": "light"
     },
     "output_type": "display_data"
    }
   ],
   "source": [
    "plt.figure(figsize=(12, 6))\n",
    "plots = sns.barplot(x='Model', y='Accuracy', data=output)\n",
    "for bar in plots.patches:\n",
    "    plots.annotate(format(bar.get_height(), '.2f'),\n",
    "                   (bar.get_x() + bar.get_width() / 2,\n",
    "                    bar.get_height()), ha='center', va='center',\n",
    "                   size=15, xytext=(0, 8),\n",
    "                   textcoords='offset points')\n",
    "\n",
    "plt.xlabel(\"Models\", size=14)\n",
    "plt.xticks(rotation=90);\n",
    "plt.ylabel(\"Accuracy\", size=14)\n",
    "plt.show()"
   ]
  },
  {
   "cell_type": "code",
   "execution_count": null,
   "id": "e428324b",
   "metadata": {
    "papermill": {
     "duration": 0.054105,
     "end_time": "2021-10-13T15:02:14.012444",
     "exception": false,
     "start_time": "2021-10-13T15:02:13.958339",
     "status": "completed"
    },
    "tags": []
   },
   "outputs": [],
   "source": []
  }
 ],
 "metadata": {
  "kernelspec": {
   "display_name": "Python 3",
   "language": "python",
   "name": "python3"
  },
  "language_info": {
   "codemirror_mode": {
    "name": "ipython",
    "version": 3
   },
   "file_extension": ".py",
   "mimetype": "text/x-python",
   "name": "python",
   "nbconvert_exporter": "python",
   "pygments_lexer": "ipython3",
   "version": "3.7.10"
  },
  "papermill": {
   "default_parameters": {},
   "duration": 19.826936,
   "end_time": "2021-10-13T15:02:15.297634",
   "environment_variables": {},
   "exception": null,
   "input_path": "__notebook__.ipynb",
   "output_path": "__notebook__.ipynb",
   "parameters": {},
   "start_time": "2021-10-13T15:01:55.470698",
   "version": "2.3.3"
  }
 },
 "nbformat": 4,
 "nbformat_minor": 5
}
