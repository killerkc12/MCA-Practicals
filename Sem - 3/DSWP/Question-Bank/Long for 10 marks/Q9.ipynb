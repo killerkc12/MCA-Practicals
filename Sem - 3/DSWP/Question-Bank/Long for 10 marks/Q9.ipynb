{
 "cells": [
  {
   "cell_type": "markdown",
   "metadata": {},
   "source": [
    "9. Consider the following dataset. By applying Naive Bayes theorem find whether we  should play Golf today or not, if today = (Overcast, False)"
   ]
  },
  {
   "cell_type": "code",
   "execution_count": 16,
   "metadata": {},
   "outputs": [],
   "source": [
    "Outlook = [\"Rainy\", \"Rainy\", \"Overcast\", \"Rainy\", \"Sunny\", \"Overcast\", \"Sunny\"]\n",
    "Windy = [\"False\", \"True\", \"False\", \"False\", \"True\", \"True\", \"False\"]\n",
    "Play = [\"No\", \"No\", \"Yes\", \"Yes\", \"No\", \"No\", \"Yes\"]"
   ]
  },
  {
   "cell_type": "code",
   "execution_count": 17,
   "metadata": {},
   "outputs": [],
   "source": [
    "from sklearn import preprocessing\n",
    "from sklearn.naive_bayes import  GaussianNB\n",
    "import pandas as pd"
   ]
  },
  {
   "cell_type": "code",
   "execution_count": 18,
   "metadata": {},
   "outputs": [],
   "source": [
    "lebel_encode = preprocessing.LabelEncoder()\n",
    "outlook_encode = lebel_encode.fit_transform(Outlook)\n",
    "windy_encode = lebel_encode.fit_transform(Windy)\n",
    "play_encode = lebel_encode.fit_transform(Play)"
   ]
  },
  {
   "cell_type": "code",
   "execution_count": 19,
   "metadata": {},
   "outputs": [],
   "source": [
    "gb = GaussianNB()"
   ]
  },
  {
   "cell_type": "code",
   "execution_count": 20,
   "metadata": {},
   "outputs": [
    {
     "data": {
      "text/plain": [
       "array([[1, 0],\n",
       "       [1, 1],\n",
       "       [0, 0],\n",
       "       [1, 0],\n",
       "       [2, 1],\n",
       "       [0, 1],\n",
       "       [2, 0]], dtype=int64)"
      ]
     },
     "execution_count": 20,
     "metadata": {},
     "output_type": "execute_result"
    }
   ],
   "source": [
    "df = pd.DataFrame({\n",
    "    \"Outlook\": outlook_encode,\n",
    "    \"Windy\": windy_encode,\n",
    "})\n",
    "df = df.values\n",
    "df"
   ]
  },
  {
   "cell_type": "code",
   "execution_count": 21,
   "metadata": {},
   "outputs": [
    {
     "data": {
      "text/plain": [
       "GaussianNB()"
      ]
     },
     "execution_count": 21,
     "metadata": {},
     "output_type": "execute_result"
    }
   ],
   "source": [
    "gb.fit(df, play_encode)"
   ]
  },
  {
   "cell_type": "code",
   "execution_count": 22,
   "metadata": {},
   "outputs": [
    {
     "name": "stdout",
     "output_type": "stream",
     "text": [
      "Play\n"
     ]
    }
   ],
   "source": [
    "predicted = gb.predict([[0, 0]]) #0:Overcast, 0:False\n",
    "if predicted == 1:\n",
    "    print(\"Play\")\n",
    "else:\n",
    "    print(\"Not Play\")"
   ]
  }
 ],
 "metadata": {
  "interpreter": {
   "hash": "c1b532cdceb6376a4c42e6e5ce731586efab02ca710b01210cfcda4686ab3dda"
  },
  "kernelspec": {
   "display_name": "Python 3.9.7 64-bit",
   "language": "python",
   "name": "python3"
  },
  "language_info": {
   "codemirror_mode": {
    "name": "ipython",
    "version": 3
   },
   "file_extension": ".py",
   "mimetype": "text/x-python",
   "name": "python",
   "nbconvert_exporter": "python",
   "pygments_lexer": "ipython3",
   "version": "3.9.7"
  },
  "orig_nbformat": 4
 },
 "nbformat": 4,
 "nbformat_minor": 2
}
