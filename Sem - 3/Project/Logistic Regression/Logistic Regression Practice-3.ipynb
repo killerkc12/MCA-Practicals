{
 "cells": [
  {
   "cell_type": "code",
   "execution_count": 2,
   "metadata": {},
   "outputs": [],
   "source": [
    "import numpy as np\n",
    "import pandas as pd"
   ]
  },
  {
   "cell_type": "code",
   "execution_count": 3,
   "metadata": {},
   "outputs": [],
   "source": [
    "data = pd.read_csv(\"Social_Network_Ads.csv\")"
   ]
  },
  {
   "cell_type": "code",
   "execution_count": 4,
   "metadata": {},
   "outputs": [
    {
     "data": {
      "text/plain": [
       "(400, 5)"
      ]
     },
     "execution_count": 4,
     "metadata": {},
     "output_type": "execute_result"
    }
   ],
   "source": [
    "data.shape"
   ]
  },
  {
   "cell_type": "code",
   "execution_count": 5,
   "metadata": {},
   "outputs": [
    {
     "data": {
      "text/html": [
       "<div>\n",
       "<style scoped>\n",
       "    .dataframe tbody tr th:only-of-type {\n",
       "        vertical-align: middle;\n",
       "    }\n",
       "\n",
       "    .dataframe tbody tr th {\n",
       "        vertical-align: top;\n",
       "    }\n",
       "\n",
       "    .dataframe thead th {\n",
       "        text-align: right;\n",
       "    }\n",
       "</style>\n",
       "<table border=\"1\" class=\"dataframe\">\n",
       "  <thead>\n",
       "    <tr style=\"text-align: right;\">\n",
       "      <th></th>\n",
       "      <th>User ID</th>\n",
       "      <th>Gender</th>\n",
       "      <th>Age</th>\n",
       "      <th>EstimatedSalary</th>\n",
       "      <th>Purchased</th>\n",
       "    </tr>\n",
       "  </thead>\n",
       "  <tbody>\n",
       "    <tr>\n",
       "      <th>0</th>\n",
       "      <td>15624510</td>\n",
       "      <td>Male</td>\n",
       "      <td>19.0</td>\n",
       "      <td>19000.0</td>\n",
       "      <td>0</td>\n",
       "    </tr>\n",
       "    <tr>\n",
       "      <th>1</th>\n",
       "      <td>15810944</td>\n",
       "      <td>Male</td>\n",
       "      <td>35.0</td>\n",
       "      <td>20000.0</td>\n",
       "      <td>0</td>\n",
       "    </tr>\n",
       "    <tr>\n",
       "      <th>2</th>\n",
       "      <td>15668575</td>\n",
       "      <td>Female</td>\n",
       "      <td>26.0</td>\n",
       "      <td>43000.0</td>\n",
       "      <td>0</td>\n",
       "    </tr>\n",
       "    <tr>\n",
       "      <th>3</th>\n",
       "      <td>15603246</td>\n",
       "      <td>Female</td>\n",
       "      <td>27.0</td>\n",
       "      <td>57000.0</td>\n",
       "      <td>0</td>\n",
       "    </tr>\n",
       "    <tr>\n",
       "      <th>4</th>\n",
       "      <td>15804002</td>\n",
       "      <td>Male</td>\n",
       "      <td>19.0</td>\n",
       "      <td>76000.0</td>\n",
       "      <td>0</td>\n",
       "    </tr>\n",
       "    <tr>\n",
       "      <th>...</th>\n",
       "      <td>...</td>\n",
       "      <td>...</td>\n",
       "      <td>...</td>\n",
       "      <td>...</td>\n",
       "      <td>...</td>\n",
       "    </tr>\n",
       "    <tr>\n",
       "      <th>395</th>\n",
       "      <td>15691863</td>\n",
       "      <td>Female</td>\n",
       "      <td>46.0</td>\n",
       "      <td>41000.0</td>\n",
       "      <td>1</td>\n",
       "    </tr>\n",
       "    <tr>\n",
       "      <th>396</th>\n",
       "      <td>15706071</td>\n",
       "      <td>Male</td>\n",
       "      <td>51.0</td>\n",
       "      <td>23000.0</td>\n",
       "      <td>1</td>\n",
       "    </tr>\n",
       "    <tr>\n",
       "      <th>397</th>\n",
       "      <td>15654296</td>\n",
       "      <td>Female</td>\n",
       "      <td>50.0</td>\n",
       "      <td>20000.0</td>\n",
       "      <td>1</td>\n",
       "    </tr>\n",
       "    <tr>\n",
       "      <th>398</th>\n",
       "      <td>15755018</td>\n",
       "      <td>Male</td>\n",
       "      <td>36.0</td>\n",
       "      <td>33000.0</td>\n",
       "      <td>0</td>\n",
       "    </tr>\n",
       "    <tr>\n",
       "      <th>399</th>\n",
       "      <td>15594041</td>\n",
       "      <td>Female</td>\n",
       "      <td>49.0</td>\n",
       "      <td>36000.0</td>\n",
       "      <td>1</td>\n",
       "    </tr>\n",
       "  </tbody>\n",
       "</table>\n",
       "<p>400 rows × 5 columns</p>\n",
       "</div>"
      ],
      "text/plain": [
       "      User ID  Gender   Age  EstimatedSalary  Purchased\n",
       "0    15624510    Male  19.0          19000.0          0\n",
       "1    15810944    Male  35.0          20000.0          0\n",
       "2    15668575  Female  26.0          43000.0          0\n",
       "3    15603246  Female  27.0          57000.0          0\n",
       "4    15804002    Male  19.0          76000.0          0\n",
       "..        ...     ...   ...              ...        ...\n",
       "395  15691863  Female  46.0          41000.0          1\n",
       "396  15706071    Male  51.0          23000.0          1\n",
       "397  15654296  Female  50.0          20000.0          1\n",
       "398  15755018    Male  36.0          33000.0          0\n",
       "399  15594041  Female  49.0          36000.0          1\n",
       "\n",
       "[400 rows x 5 columns]"
      ]
     },
     "execution_count": 5,
     "metadata": {},
     "output_type": "execute_result"
    }
   ],
   "source": [
    "data"
   ]
  },
  {
   "cell_type": "code",
   "execution_count": 6,
   "metadata": {},
   "outputs": [
    {
     "name": "stdout",
     "output_type": "stream",
     "text": [
      "<class 'pandas.core.frame.DataFrame'>\n",
      "RangeIndex: 400 entries, 0 to 399\n",
      "Data columns (total 5 columns):\n",
      " #   Column           Non-Null Count  Dtype  \n",
      "---  ------           --------------  -----  \n",
      " 0   User ID          400 non-null    int64  \n",
      " 1   Gender           400 non-null    object \n",
      " 2   Age              400 non-null    float64\n",
      " 3   EstimatedSalary  400 non-null    float64\n",
      " 4   Purchased        400 non-null    int64  \n",
      "dtypes: float64(2), int64(2), object(1)\n",
      "memory usage: 15.8+ KB\n"
     ]
    }
   ],
   "source": [
    "data.info()"
   ]
  },
  {
   "cell_type": "code",
   "execution_count": 7,
   "metadata": {},
   "outputs": [
    {
     "data": {
      "text/html": [
       "<div>\n",
       "<style scoped>\n",
       "    .dataframe tbody tr th:only-of-type {\n",
       "        vertical-align: middle;\n",
       "    }\n",
       "\n",
       "    .dataframe tbody tr th {\n",
       "        vertical-align: top;\n",
       "    }\n",
       "\n",
       "    .dataframe thead th {\n",
       "        text-align: right;\n",
       "    }\n",
       "</style>\n",
       "<table border=\"1\" class=\"dataframe\">\n",
       "  <thead>\n",
       "    <tr style=\"text-align: right;\">\n",
       "      <th></th>\n",
       "      <th>User ID</th>\n",
       "      <th>Age</th>\n",
       "      <th>EstimatedSalary</th>\n",
       "      <th>Purchased</th>\n",
       "    </tr>\n",
       "  </thead>\n",
       "  <tbody>\n",
       "    <tr>\n",
       "      <th>count</th>\n",
       "      <td>4.000000e+02</td>\n",
       "      <td>400.000000</td>\n",
       "      <td>400.000000</td>\n",
       "      <td>400.000000</td>\n",
       "    </tr>\n",
       "    <tr>\n",
       "      <th>mean</th>\n",
       "      <td>1.569154e+07</td>\n",
       "      <td>37.655000</td>\n",
       "      <td>69742.500000</td>\n",
       "      <td>0.357500</td>\n",
       "    </tr>\n",
       "    <tr>\n",
       "      <th>std</th>\n",
       "      <td>7.165832e+04</td>\n",
       "      <td>10.482877</td>\n",
       "      <td>34096.960282</td>\n",
       "      <td>0.479864</td>\n",
       "    </tr>\n",
       "    <tr>\n",
       "      <th>min</th>\n",
       "      <td>1.556669e+07</td>\n",
       "      <td>18.000000</td>\n",
       "      <td>15000.000000</td>\n",
       "      <td>0.000000</td>\n",
       "    </tr>\n",
       "    <tr>\n",
       "      <th>25%</th>\n",
       "      <td>1.562676e+07</td>\n",
       "      <td>29.750000</td>\n",
       "      <td>43000.000000</td>\n",
       "      <td>0.000000</td>\n",
       "    </tr>\n",
       "    <tr>\n",
       "      <th>50%</th>\n",
       "      <td>1.569434e+07</td>\n",
       "      <td>37.000000</td>\n",
       "      <td>70000.000000</td>\n",
       "      <td>0.000000</td>\n",
       "    </tr>\n",
       "    <tr>\n",
       "      <th>75%</th>\n",
       "      <td>1.575036e+07</td>\n",
       "      <td>46.000000</td>\n",
       "      <td>88000.000000</td>\n",
       "      <td>1.000000</td>\n",
       "    </tr>\n",
       "    <tr>\n",
       "      <th>max</th>\n",
       "      <td>1.581524e+07</td>\n",
       "      <td>60.000000</td>\n",
       "      <td>150000.000000</td>\n",
       "      <td>1.000000</td>\n",
       "    </tr>\n",
       "  </tbody>\n",
       "</table>\n",
       "</div>"
      ],
      "text/plain": [
       "            User ID         Age  EstimatedSalary   Purchased\n",
       "count  4.000000e+02  400.000000       400.000000  400.000000\n",
       "mean   1.569154e+07   37.655000     69742.500000    0.357500\n",
       "std    7.165832e+04   10.482877     34096.960282    0.479864\n",
       "min    1.556669e+07   18.000000     15000.000000    0.000000\n",
       "25%    1.562676e+07   29.750000     43000.000000    0.000000\n",
       "50%    1.569434e+07   37.000000     70000.000000    0.000000\n",
       "75%    1.575036e+07   46.000000     88000.000000    1.000000\n",
       "max    1.581524e+07   60.000000    150000.000000    1.000000"
      ]
     },
     "execution_count": 7,
     "metadata": {},
     "output_type": "execute_result"
    }
   ],
   "source": [
    "data.describe()"
   ]
  },
  {
   "cell_type": "code",
   "execution_count": 8,
   "metadata": {},
   "outputs": [],
   "source": [
    "X = data.iloc[:,2:4].values"
   ]
  },
  {
   "cell_type": "code",
   "execution_count": 9,
   "metadata": {},
   "outputs": [
    {
     "data": {
      "text/plain": [
       "array([[1.90e+01, 1.90e+04],\n",
       "       [3.50e+01, 2.00e+04],\n",
       "       [2.60e+01, 4.30e+04],\n",
       "       [2.70e+01, 5.70e+04],\n",
       "       [1.90e+01, 7.60e+04],\n",
       "       [2.70e+01, 5.80e+04],\n",
       "       [2.70e+01, 8.40e+04],\n",
       "       [3.20e+01, 1.50e+05],\n",
       "       [2.50e+01, 3.30e+04],\n",
       "       [3.50e+01, 6.50e+04],\n",
       "       [2.60e+01, 8.00e+04],\n",
       "       [2.60e+01, 5.20e+04],\n",
       "       [2.00e+01, 8.60e+04],\n",
       "       [3.20e+01, 1.80e+04],\n",
       "       [1.80e+01, 8.20e+04],\n",
       "       [2.90e+01, 8.00e+04],\n",
       "       [4.70e+01, 2.50e+04],\n",
       "       [4.50e+01, 2.60e+04],\n",
       "       [4.60e+01, 2.80e+04],\n",
       "       [4.80e+01, 2.90e+04],\n",
       "       [4.50e+01, 2.20e+04],\n",
       "       [4.70e+01, 4.90e+04],\n",
       "       [4.80e+01, 4.10e+04],\n",
       "       [4.50e+01, 2.20e+04],\n",
       "       [4.60e+01, 2.30e+04],\n",
       "       [4.70e+01, 2.00e+04],\n",
       "       [4.90e+01, 2.80e+04],\n",
       "       [4.70e+01, 3.00e+04],\n",
       "       [2.90e+01, 4.30e+04],\n",
       "       [3.10e+01, 1.80e+04],\n",
       "       [3.10e+01, 7.40e+04],\n",
       "       [2.70e+01, 1.37e+05],\n",
       "       [2.10e+01, 1.60e+04],\n",
       "       [2.80e+01, 4.40e+04],\n",
       "       [2.70e+01, 9.00e+04],\n",
       "       [3.50e+01, 2.70e+04],\n",
       "       [3.30e+01, 2.80e+04],\n",
       "       [3.00e+01, 4.90e+04],\n",
       "       [2.60e+01, 7.20e+04],\n",
       "       [2.70e+01, 3.10e+04],\n",
       "       [2.70e+01, 1.70e+04],\n",
       "       [3.30e+01, 5.10e+04],\n",
       "       [3.50e+01, 1.08e+05],\n",
       "       [3.00e+01, 1.50e+04],\n",
       "       [2.80e+01, 8.40e+04],\n",
       "       [2.30e+01, 2.00e+04],\n",
       "       [2.50e+01, 7.90e+04],\n",
       "       [2.70e+01, 5.40e+04],\n",
       "       [3.00e+01, 1.35e+05],\n",
       "       [3.10e+01, 8.90e+04],\n",
       "       [2.40e+01, 3.20e+04],\n",
       "       [1.80e+01, 4.40e+04],\n",
       "       [2.90e+01, 8.30e+04],\n",
       "       [3.50e+01, 2.30e+04],\n",
       "       [2.70e+01, 5.80e+04],\n",
       "       [2.40e+01, 5.50e+04],\n",
       "       [2.30e+01, 4.80e+04],\n",
       "       [2.80e+01, 7.90e+04],\n",
       "       [2.20e+01, 1.80e+04],\n",
       "       [3.20e+01, 1.17e+05],\n",
       "       [2.70e+01, 2.00e+04],\n",
       "       [2.50e+01, 8.70e+04],\n",
       "       [2.30e+01, 6.60e+04],\n",
       "       [3.20e+01, 1.20e+05],\n",
       "       [5.90e+01, 8.30e+04],\n",
       "       [2.40e+01, 5.80e+04],\n",
       "       [2.40e+01, 1.90e+04],\n",
       "       [2.30e+01, 8.20e+04],\n",
       "       [2.20e+01, 6.30e+04],\n",
       "       [3.10e+01, 6.80e+04],\n",
       "       [2.50e+01, 8.00e+04],\n",
       "       [2.40e+01, 2.70e+04],\n",
       "       [2.00e+01, 2.30e+04],\n",
       "       [3.30e+01, 1.13e+05],\n",
       "       [3.20e+01, 1.80e+04],\n",
       "       [3.40e+01, 1.12e+05],\n",
       "       [1.80e+01, 5.20e+04],\n",
       "       [2.20e+01, 2.70e+04],\n",
       "       [2.80e+01, 8.70e+04],\n",
       "       [2.60e+01, 1.70e+04],\n",
       "       [3.00e+01, 8.00e+04],\n",
       "       [3.90e+01, 4.20e+04],\n",
       "       [2.00e+01, 4.90e+04],\n",
       "       [3.50e+01, 8.80e+04],\n",
       "       [3.00e+01, 6.20e+04],\n",
       "       [3.10e+01, 1.18e+05],\n",
       "       [2.40e+01, 5.50e+04],\n",
       "       [2.80e+01, 8.50e+04],\n",
       "       [2.60e+01, 8.10e+04],\n",
       "       [3.50e+01, 5.00e+04],\n",
       "       [2.20e+01, 8.10e+04],\n",
       "       [3.00e+01, 1.16e+05],\n",
       "       [2.60e+01, 1.50e+04],\n",
       "       [2.90e+01, 2.80e+04],\n",
       "       [2.90e+01, 8.30e+04],\n",
       "       [3.50e+01, 4.40e+04],\n",
       "       [3.50e+01, 2.50e+04],\n",
       "       [2.80e+01, 1.23e+05],\n",
       "       [3.50e+01, 7.30e+04],\n",
       "       [2.80e+01, 3.70e+04],\n",
       "       [2.70e+01, 8.80e+04],\n",
       "       [2.80e+01, 5.90e+04],\n",
       "       [3.20e+01, 8.60e+04],\n",
       "       [3.30e+01, 1.49e+05],\n",
       "       [1.90e+01, 2.10e+04],\n",
       "       [2.10e+01, 7.20e+04],\n",
       "       [2.60e+01, 3.50e+04],\n",
       "       [2.70e+01, 8.90e+04],\n",
       "       [2.60e+01, 8.60e+04],\n",
       "       [3.80e+01, 8.00e+04],\n",
       "       [3.90e+01, 7.10e+04],\n",
       "       [3.70e+01, 7.10e+04],\n",
       "       [3.80e+01, 6.10e+04],\n",
       "       [3.70e+01, 5.50e+04],\n",
       "       [4.20e+01, 8.00e+04],\n",
       "       [4.00e+01, 5.70e+04],\n",
       "       [3.50e+01, 7.50e+04],\n",
       "       [3.60e+01, 5.20e+04],\n",
       "       [4.00e+01, 5.90e+04],\n",
       "       [4.10e+01, 5.90e+04],\n",
       "       [3.60e+01, 7.50e+04],\n",
       "       [3.70e+01, 7.20e+04],\n",
       "       [4.00e+01, 7.50e+04],\n",
       "       [3.50e+01, 5.30e+04],\n",
       "       [4.10e+01, 5.10e+04],\n",
       "       [3.90e+01, 6.10e+04],\n",
       "       [4.20e+01, 6.50e+04],\n",
       "       [2.60e+01, 3.20e+04],\n",
       "       [3.00e+01, 1.70e+04],\n",
       "       [2.60e+01, 8.40e+04],\n",
       "       [3.10e+01, 5.80e+04],\n",
       "       [3.30e+01, 3.10e+04],\n",
       "       [3.00e+01, 8.70e+04],\n",
       "       [2.10e+01, 6.80e+04],\n",
       "       [2.80e+01, 5.50e+04],\n",
       "       [2.30e+01, 6.30e+04],\n",
       "       [2.00e+01, 8.20e+04],\n",
       "       [3.00e+01, 1.07e+05],\n",
       "       [2.80e+01, 5.90e+04],\n",
       "       [1.90e+01, 2.50e+04],\n",
       "       [1.90e+01, 8.50e+04],\n",
       "       [1.80e+01, 6.80e+04],\n",
       "       [3.50e+01, 5.90e+04],\n",
       "       [3.00e+01, 8.90e+04],\n",
       "       [3.40e+01, 2.50e+04],\n",
       "       [2.40e+01, 8.90e+04],\n",
       "       [2.70e+01, 9.60e+04],\n",
       "       [4.10e+01, 3.00e+04],\n",
       "       [2.90e+01, 6.10e+04],\n",
       "       [2.00e+01, 7.40e+04],\n",
       "       [2.60e+01, 1.50e+04],\n",
       "       [4.10e+01, 4.50e+04],\n",
       "       [3.10e+01, 7.60e+04],\n",
       "       [3.60e+01, 5.00e+04],\n",
       "       [4.00e+01, 4.70e+04],\n",
       "       [3.10e+01, 1.50e+04],\n",
       "       [4.60e+01, 5.90e+04],\n",
       "       [2.90e+01, 7.50e+04],\n",
       "       [2.60e+01, 3.00e+04],\n",
       "       [3.20e+01, 1.35e+05],\n",
       "       [3.20e+01, 1.00e+05],\n",
       "       [2.50e+01, 9.00e+04],\n",
       "       [3.70e+01, 3.30e+04],\n",
       "       [3.50e+01, 3.80e+04],\n",
       "       [3.30e+01, 6.90e+04],\n",
       "       [1.80e+01, 8.60e+04],\n",
       "       [2.20e+01, 5.50e+04],\n",
       "       [3.50e+01, 7.10e+04],\n",
       "       [2.90e+01, 1.48e+05],\n",
       "       [2.90e+01, 4.70e+04],\n",
       "       [2.10e+01, 8.80e+04],\n",
       "       [3.40e+01, 1.15e+05],\n",
       "       [2.60e+01, 1.18e+05],\n",
       "       [3.40e+01, 4.30e+04],\n",
       "       [3.40e+01, 7.20e+04],\n",
       "       [2.30e+01, 2.80e+04],\n",
       "       [3.50e+01, 4.70e+04],\n",
       "       [2.50e+01, 2.20e+04],\n",
       "       [2.40e+01, 2.30e+04],\n",
       "       [3.10e+01, 3.40e+04],\n",
       "       [2.60e+01, 1.60e+04],\n",
       "       [3.10e+01, 7.10e+04],\n",
       "       [3.20e+01, 1.17e+05],\n",
       "       [3.30e+01, 4.30e+04],\n",
       "       [3.30e+01, 6.00e+04],\n",
       "       [3.10e+01, 6.60e+04],\n",
       "       [2.00e+01, 8.20e+04],\n",
       "       [3.30e+01, 4.10e+04],\n",
       "       [3.50e+01, 7.20e+04],\n",
       "       [2.80e+01, 3.20e+04],\n",
       "       [2.40e+01, 8.40e+04],\n",
       "       [1.90e+01, 2.60e+04],\n",
       "       [2.90e+01, 4.30e+04],\n",
       "       [1.90e+01, 7.00e+04],\n",
       "       [2.80e+01, 8.90e+04],\n",
       "       [3.40e+01, 4.30e+04],\n",
       "       [3.00e+01, 7.90e+04],\n",
       "       [2.00e+01, 3.60e+04],\n",
       "       [2.60e+01, 8.00e+04],\n",
       "       [3.50e+01, 2.20e+04],\n",
       "       [3.50e+01, 3.90e+04],\n",
       "       [4.90e+01, 7.40e+04],\n",
       "       [3.90e+01, 1.34e+05],\n",
       "       [4.10e+01, 7.10e+04],\n",
       "       [5.80e+01, 1.01e+05],\n",
       "       [4.70e+01, 4.70e+04],\n",
       "       [5.50e+01, 1.30e+05],\n",
       "       [5.20e+01, 1.14e+05],\n",
       "       [4.00e+01, 1.42e+05],\n",
       "       [4.60e+01, 2.20e+04],\n",
       "       [4.80e+01, 9.60e+04],\n",
       "       [5.20e+01, 1.50e+05],\n",
       "       [5.90e+01, 4.20e+04],\n",
       "       [3.50e+01, 5.80e+04],\n",
       "       [4.70e+01, 4.30e+04],\n",
       "       [6.00e+01, 1.08e+05],\n",
       "       [4.90e+01, 6.50e+04],\n",
       "       [4.00e+01, 7.80e+04],\n",
       "       [4.60e+01, 9.60e+04],\n",
       "       [5.90e+01, 1.43e+05],\n",
       "       [4.10e+01, 8.00e+04],\n",
       "       [3.50e+01, 9.10e+04],\n",
       "       [3.70e+01, 1.44e+05],\n",
       "       [6.00e+01, 1.02e+05],\n",
       "       [3.50e+01, 6.00e+04],\n",
       "       [3.70e+01, 5.30e+04],\n",
       "       [3.60e+01, 1.26e+05],\n",
       "       [5.60e+01, 1.33e+05],\n",
       "       [4.00e+01, 7.20e+04],\n",
       "       [4.20e+01, 8.00e+04],\n",
       "       [3.50e+01, 1.47e+05],\n",
       "       [3.90e+01, 4.20e+04],\n",
       "       [4.00e+01, 1.07e+05],\n",
       "       [4.90e+01, 8.60e+04],\n",
       "       [3.80e+01, 1.12e+05],\n",
       "       [4.60e+01, 7.90e+04],\n",
       "       [4.00e+01, 5.70e+04],\n",
       "       [3.70e+01, 8.00e+04],\n",
       "       [4.60e+01, 8.20e+04],\n",
       "       [5.30e+01, 1.43e+05],\n",
       "       [4.20e+01, 1.49e+05],\n",
       "       [3.80e+01, 5.90e+04],\n",
       "       [5.00e+01, 8.80e+04],\n",
       "       [5.60e+01, 1.04e+05],\n",
       "       [4.10e+01, 7.20e+04],\n",
       "       [5.10e+01, 1.46e+05],\n",
       "       [3.50e+01, 5.00e+04],\n",
       "       [5.70e+01, 1.22e+05],\n",
       "       [4.10e+01, 5.20e+04],\n",
       "       [3.50e+01, 9.70e+04],\n",
       "       [4.40e+01, 3.90e+04],\n",
       "       [3.70e+01, 5.20e+04],\n",
       "       [4.80e+01, 1.34e+05],\n",
       "       [3.70e+01, 1.46e+05],\n",
       "       [5.00e+01, 4.40e+04],\n",
       "       [5.20e+01, 9.00e+04],\n",
       "       [4.10e+01, 7.20e+04],\n",
       "       [4.00e+01, 5.70e+04],\n",
       "       [5.80e+01, 9.50e+04],\n",
       "       [4.50e+01, 1.31e+05],\n",
       "       [3.50e+01, 7.70e+04],\n",
       "       [3.60e+01, 1.44e+05],\n",
       "       [5.50e+01, 1.25e+05],\n",
       "       [3.50e+01, 7.20e+04],\n",
       "       [4.80e+01, 9.00e+04],\n",
       "       [4.20e+01, 1.08e+05],\n",
       "       [4.00e+01, 7.50e+04],\n",
       "       [3.70e+01, 7.40e+04],\n",
       "       [4.70e+01, 1.44e+05],\n",
       "       [4.00e+01, 6.10e+04],\n",
       "       [4.30e+01, 1.33e+05],\n",
       "       [5.90e+01, 7.60e+04],\n",
       "       [6.00e+01, 4.20e+04],\n",
       "       [3.90e+01, 1.06e+05],\n",
       "       [5.70e+01, 2.60e+04],\n",
       "       [5.70e+01, 7.40e+04],\n",
       "       [3.80e+01, 7.10e+04],\n",
       "       [4.90e+01, 8.80e+04],\n",
       "       [5.20e+01, 3.80e+04],\n",
       "       [5.00e+01, 3.60e+04],\n",
       "       [5.90e+01, 8.80e+04],\n",
       "       [3.50e+01, 6.10e+04],\n",
       "       [3.70e+01, 7.00e+04],\n",
       "       [5.20e+01, 2.10e+04],\n",
       "       [4.80e+01, 1.41e+05],\n",
       "       [3.70e+01, 9.30e+04],\n",
       "       [3.70e+01, 6.20e+04],\n",
       "       [4.80e+01, 1.38e+05],\n",
       "       [4.10e+01, 7.90e+04],\n",
       "       [3.70e+01, 7.80e+04],\n",
       "       [3.90e+01, 1.34e+05],\n",
       "       [4.90e+01, 8.90e+04],\n",
       "       [5.50e+01, 3.90e+04],\n",
       "       [3.70e+01, 7.70e+04],\n",
       "       [3.50e+01, 5.70e+04],\n",
       "       [3.60e+01, 6.30e+04],\n",
       "       [4.20e+01, 7.30e+04],\n",
       "       [4.30e+01, 1.12e+05],\n",
       "       [4.50e+01, 7.90e+04],\n",
       "       [4.60e+01, 1.17e+05],\n",
       "       [5.80e+01, 3.80e+04],\n",
       "       [4.80e+01, 7.40e+04],\n",
       "       [3.70e+01, 1.37e+05],\n",
       "       [3.70e+01, 7.90e+04],\n",
       "       [4.00e+01, 6.00e+04],\n",
       "       [4.20e+01, 5.40e+04],\n",
       "       [5.10e+01, 1.34e+05],\n",
       "       [4.70e+01, 1.13e+05],\n",
       "       [3.60e+01, 1.25e+05],\n",
       "       [3.80e+01, 5.00e+04],\n",
       "       [4.20e+01, 7.00e+04],\n",
       "       [3.90e+01, 9.60e+04],\n",
       "       [3.80e+01, 5.00e+04],\n",
       "       [4.90e+01, 1.41e+05],\n",
       "       [3.90e+01, 7.90e+04],\n",
       "       [3.90e+01, 7.50e+04],\n",
       "       [5.40e+01, 1.04e+05],\n",
       "       [3.50e+01, 5.50e+04],\n",
       "       [4.50e+01, 3.20e+04],\n",
       "       [3.60e+01, 6.00e+04],\n",
       "       [5.20e+01, 1.38e+05],\n",
       "       [5.30e+01, 8.20e+04],\n",
       "       [4.10e+01, 5.20e+04],\n",
       "       [4.80e+01, 3.00e+04],\n",
       "       [4.80e+01, 1.31e+05],\n",
       "       [4.10e+01, 6.00e+04],\n",
       "       [4.10e+01, 7.20e+04],\n",
       "       [4.20e+01, 7.50e+04],\n",
       "       [3.60e+01, 1.18e+05],\n",
       "       [4.70e+01, 1.07e+05],\n",
       "       [3.80e+01, 5.10e+04],\n",
       "       [4.80e+01, 1.19e+05],\n",
       "       [4.20e+01, 6.50e+04],\n",
       "       [4.00e+01, 6.50e+04],\n",
       "       [5.70e+01, 6.00e+04],\n",
       "       [3.60e+01, 5.40e+04],\n",
       "       [5.80e+01, 1.44e+05],\n",
       "       [3.50e+01, 7.90e+04],\n",
       "       [3.80e+01, 5.50e+04],\n",
       "       [3.90e+01, 1.22e+05],\n",
       "       [5.30e+01, 1.04e+05],\n",
       "       [3.50e+01, 7.50e+04],\n",
       "       [3.80e+01, 6.50e+04],\n",
       "       [4.70e+01, 5.10e+04],\n",
       "       [4.70e+01, 1.05e+05],\n",
       "       [4.10e+01, 6.30e+04],\n",
       "       [5.30e+01, 7.20e+04],\n",
       "       [5.40e+01, 1.08e+05],\n",
       "       [3.90e+01, 7.70e+04],\n",
       "       [3.80e+01, 6.10e+04],\n",
       "       [3.80e+01, 1.13e+05],\n",
       "       [3.70e+01, 7.50e+04],\n",
       "       [4.20e+01, 9.00e+04],\n",
       "       [3.70e+01, 5.70e+04],\n",
       "       [3.60e+01, 9.90e+04],\n",
       "       [6.00e+01, 3.40e+04],\n",
       "       [5.40e+01, 7.00e+04],\n",
       "       [4.10e+01, 7.20e+04],\n",
       "       [4.00e+01, 7.10e+04],\n",
       "       [4.20e+01, 5.40e+04],\n",
       "       [4.30e+01, 1.29e+05],\n",
       "       [5.30e+01, 3.40e+04],\n",
       "       [4.70e+01, 5.00e+04],\n",
       "       [4.20e+01, 7.90e+04],\n",
       "       [4.20e+01, 1.04e+05],\n",
       "       [5.90e+01, 2.90e+04],\n",
       "       [5.80e+01, 4.70e+04],\n",
       "       [4.60e+01, 8.80e+04],\n",
       "       [3.80e+01, 7.10e+04],\n",
       "       [5.40e+01, 2.60e+04],\n",
       "       [6.00e+01, 4.60e+04],\n",
       "       [6.00e+01, 8.30e+04],\n",
       "       [3.90e+01, 7.30e+04],\n",
       "       [5.90e+01, 1.30e+05],\n",
       "       [3.70e+01, 8.00e+04],\n",
       "       [4.60e+01, 3.20e+04],\n",
       "       [4.60e+01, 7.40e+04],\n",
       "       [4.20e+01, 5.30e+04],\n",
       "       [4.10e+01, 8.70e+04],\n",
       "       [5.80e+01, 2.30e+04],\n",
       "       [4.20e+01, 6.40e+04],\n",
       "       [4.80e+01, 3.30e+04],\n",
       "       [4.40e+01, 1.39e+05],\n",
       "       [4.90e+01, 2.80e+04],\n",
       "       [5.70e+01, 3.30e+04],\n",
       "       [5.60e+01, 6.00e+04],\n",
       "       [4.90e+01, 3.90e+04],\n",
       "       [3.90e+01, 7.10e+04],\n",
       "       [4.70e+01, 3.40e+04],\n",
       "       [4.80e+01, 3.50e+04],\n",
       "       [4.80e+01, 3.30e+04],\n",
       "       [4.70e+01, 2.30e+04],\n",
       "       [4.50e+01, 4.50e+04],\n",
       "       [6.00e+01, 4.20e+04],\n",
       "       [3.90e+01, 5.90e+04],\n",
       "       [4.60e+01, 4.10e+04],\n",
       "       [5.10e+01, 2.30e+04],\n",
       "       [5.00e+01, 2.00e+04],\n",
       "       [3.60e+01, 3.30e+04],\n",
       "       [4.90e+01, 3.60e+04]])"
      ]
     },
     "execution_count": 9,
     "metadata": {},
     "output_type": "execute_result"
    }
   ],
   "source": [
    "X"
   ]
  },
  {
   "cell_type": "code",
   "execution_count": 10,
   "metadata": {},
   "outputs": [],
   "source": [
    "y = data.iloc[:,4].values"
   ]
  },
  {
   "cell_type": "code",
   "execution_count": 11,
   "metadata": {},
   "outputs": [
    {
     "data": {
      "text/plain": [
       "array([0, 0, 0, 0, 0, 0, 0, 1, 0, 0, 0, 0, 0, 0, 0, 0, 1, 1, 1, 1, 1, 1,\n",
       "       1, 1, 1, 1, 1, 1, 0, 0, 0, 1, 0, 0, 0, 0, 0, 0, 0, 0, 0, 0, 0, 0,\n",
       "       0, 0, 0, 0, 1, 0, 0, 0, 0, 0, 0, 0, 0, 0, 0, 0, 0, 0, 0, 1, 0, 0,\n",
       "       0, 0, 0, 0, 0, 0, 0, 0, 0, 1, 0, 0, 0, 0, 0, 0, 0, 0, 0, 1, 0, 0,\n",
       "       0, 0, 0, 0, 0, 0, 0, 0, 0, 1, 0, 0, 0, 0, 0, 1, 0, 0, 0, 0, 0, 0,\n",
       "       0, 0, 0, 0, 0, 0, 0, 0, 0, 0, 0, 0, 0, 0, 0, 0, 0, 0, 0, 0, 0, 0,\n",
       "       0, 0, 0, 0, 0, 1, 0, 0, 0, 0, 0, 0, 0, 0, 1, 0, 0, 0, 0, 0, 0, 0,\n",
       "       0, 0, 0, 0, 0, 1, 1, 0, 0, 0, 0, 0, 0, 0, 1, 0, 0, 0, 0, 0, 0, 0,\n",
       "       0, 0, 0, 0, 0, 0, 1, 0, 0, 0, 0, 0, 0, 0, 0, 0, 0, 0, 0, 0, 0, 0,\n",
       "       0, 0, 0, 0, 1, 0, 1, 0, 1, 0, 1, 0, 1, 1, 0, 0, 0, 1, 0, 0, 0, 1,\n",
       "       0, 1, 1, 1, 0, 0, 1, 1, 0, 1, 1, 0, 1, 1, 0, 1, 0, 0, 0, 1, 1, 0,\n",
       "       1, 1, 0, 1, 0, 1, 0, 1, 0, 0, 1, 1, 0, 1, 0, 0, 1, 1, 0, 1, 1, 0,\n",
       "       1, 1, 0, 0, 1, 0, 0, 1, 1, 1, 1, 1, 0, 1, 1, 1, 1, 0, 1, 1, 0, 1,\n",
       "       0, 1, 0, 1, 1, 1, 1, 0, 0, 0, 1, 1, 0, 1, 1, 1, 1, 1, 0, 0, 0, 1,\n",
       "       1, 0, 0, 1, 0, 1, 0, 1, 1, 0, 1, 0, 1, 1, 0, 1, 1, 0, 0, 0, 1, 1,\n",
       "       0, 1, 0, 0, 1, 0, 1, 0, 0, 1, 1, 0, 0, 1, 1, 0, 1, 1, 0, 0, 1, 0,\n",
       "       1, 0, 1, 1, 1, 0, 1, 0, 1, 1, 1, 0, 1, 1, 1, 1, 0, 1, 1, 1, 0, 1,\n",
       "       0, 1, 0, 0, 1, 1, 0, 1, 1, 1, 1, 1, 1, 0, 1, 1, 1, 1, 1, 1, 0, 1,\n",
       "       1, 1, 0, 1], dtype=int64)"
      ]
     },
     "execution_count": 11,
     "metadata": {},
     "output_type": "execute_result"
    }
   ],
   "source": [
    "y"
   ]
  },
  {
   "cell_type": "code",
   "execution_count": 12,
   "metadata": {},
   "outputs": [],
   "source": [
    "#Split Data into Trining and Testing"
   ]
  },
  {
   "cell_type": "code",
   "execution_count": 13,
   "metadata": {},
   "outputs": [],
   "source": [
    "from sklearn.model_selection import train_test_split"
   ]
  },
  {
   "cell_type": "code",
   "execution_count": 14,
   "metadata": {},
   "outputs": [],
   "source": [
    "X_train, X_test, y_train, y_test = train_test_split(X,y,random_state=0,test_size=0.25)"
   ]
  },
  {
   "cell_type": "code",
   "execution_count": 15,
   "metadata": {},
   "outputs": [
    {
     "name": "stdout",
     "output_type": "stream",
     "text": [
      "300 100\n"
     ]
    }
   ],
   "source": [
    "print (len(X_train), len(X_test))"
   ]
  },
  {
   "cell_type": "code",
   "execution_count": null,
   "metadata": {},
   "outputs": [],
   "source": []
  },
  {
   "cell_type": "code",
   "execution_count": 16,
   "metadata": {},
   "outputs": [],
   "source": [
    "#Preprocessing - Feature Scaling"
   ]
  },
  {
   "cell_type": "code",
   "execution_count": 17,
   "metadata": {},
   "outputs": [],
   "source": [
    "from sklearn.preprocessing import StandardScaler"
   ]
  },
  {
   "cell_type": "code",
   "execution_count": 18,
   "metadata": {},
   "outputs": [],
   "source": [
    "sc = StandardScaler()"
   ]
  },
  {
   "cell_type": "code",
   "execution_count": 19,
   "metadata": {},
   "outputs": [],
   "source": [
    "X_train = sc.fit_transform(X_train)\n",
    "X_test = sc.fit_transform(X_test)"
   ]
  },
  {
   "cell_type": "code",
   "execution_count": null,
   "metadata": {},
   "outputs": [],
   "source": []
  },
  {
   "cell_type": "code",
   "execution_count": 20,
   "metadata": {},
   "outputs": [],
   "source": [
    "from sklearn.linear_model import LogisticRegression"
   ]
  },
  {
   "cell_type": "code",
   "execution_count": 21,
   "metadata": {},
   "outputs": [],
   "source": [
    "classifier = LogisticRegression()"
   ]
  },
  {
   "cell_type": "code",
   "execution_count": 22,
   "metadata": {},
   "outputs": [
    {
     "data": {
      "text/plain": [
       "LogisticRegression()"
      ]
     },
     "execution_count": 22,
     "metadata": {},
     "output_type": "execute_result"
    }
   ],
   "source": [
    "classifier.fit(X_train,y_train)"
   ]
  },
  {
   "cell_type": "code",
   "execution_count": 23,
   "metadata": {},
   "outputs": [],
   "source": [
    "y_pred = classifier.predict(X_test)"
   ]
  },
  {
   "cell_type": "code",
   "execution_count": 24,
   "metadata": {},
   "outputs": [
    {
     "data": {
      "text/plain": [
       "array([0, 0, 0, 0, 0, 0, 0, 1, 0, 1, 0, 0, 0, 0, 0, 0, 0, 0, 1, 0, 0, 1,\n",
       "       0, 1, 0, 1, 0, 0, 0, 0, 0, 0, 1, 0, 0, 0, 0, 0, 0, 1, 0, 0, 0, 0,\n",
       "       1, 0, 0, 1, 0, 1, 1, 0, 0, 1, 1, 0, 0, 0, 0, 0, 0, 1, 0, 0, 0, 1,\n",
       "       0, 0, 0, 1, 1, 0, 0, 0, 0, 0, 1, 0, 1, 1, 1, 1, 0, 0, 1, 1, 0, 1,\n",
       "       0, 0, 0, 1, 0, 0, 0, 0, 0, 0, 1, 1], dtype=int64)"
      ]
     },
     "execution_count": 24,
     "metadata": {},
     "output_type": "execute_result"
    }
   ],
   "source": [
    "y_pred"
   ]
  },
  {
   "cell_type": "code",
   "execution_count": null,
   "metadata": {},
   "outputs": [],
   "source": [
    "#Creating Confusion Matrix"
   ]
  },
  {
   "cell_type": "code",
   "execution_count": null,
   "metadata": {},
   "outputs": [],
   "source": [
    "from sklearn.metrics import confusion_matrix, accuracy_score"
   ]
  },
  {
   "cell_type": "code",
   "execution_count": null,
   "metadata": {},
   "outputs": [],
   "source": [
    "cm = confusion_matrix(y_test,y_pred)"
   ]
  },
  {
   "cell_type": "code",
   "execution_count": null,
   "metadata": {},
   "outputs": [],
   "source": [
    "print(\"Confusion Matrix: \\n\",cm)"
   ]
  },
  {
   "cell_type": "code",
   "execution_count": null,
   "metadata": {},
   "outputs": [],
   "source": [
    "print(\"Accuracy Score: \", accuracy_score(y_test,y_pred)*100)"
   ]
  },
  {
   "cell_type": "code",
   "execution_count": null,
   "metadata": {},
   "outputs": [],
   "source": [
    "y_pred = classifier.predict(X_test)"
   ]
  },
  {
   "cell_type": "code",
   "execution_count": null,
   "metadata": {},
   "outputs": [],
   "source": [
    "print(\"Accuracy Score: \", accuracy_score(y_test,y_pred)*100)"
   ]
  },
  {
   "cell_type": "code",
   "execution_count": null,
   "metadata": {},
   "outputs": [],
   "source": [
    "#Sample data Testing\n"
   ]
  },
  {
   "cell_type": "code",
   "execution_count": null,
   "metadata": {},
   "outputs": [],
   "source": [
    "from matplotlib.colors import ListedColormap\n",
    "import matplotlib.pyplot as plt"
   ]
  },
  {
   "cell_type": "code",
   "execution_count": null,
   "metadata": {},
   "outputs": [],
   "source": [
    "#visualising training set\n",
    "\n",
    "X_set, y_set = X_train, y_train\n",
    "X1, X2 = np.meshgrid(np.arange(start = X_set[:, 0].min() - 1, stop = X_set[:, 0].max() + 1, step = 0.01),\n",
    "                     np.arange(start = X_set[:, 1].min() - 1, stop = X_set[:, 1].max() + 1, step = 0.01))\n",
    "plt.xlim(X1.min(), X1.max())\n",
    "plt.ylim(X2.min(), X2.max())\n",
    "for i, j in enumerate(np.unique(y_set)):\n",
    "    plt.scatter(X_set[y_set == j, 0], X_set[y_set == j, 1],\n",
    "                c = ListedColormap(('red', 'green'))(i), label = j)\n",
    "plt.title('Logistic Regression (Training set)')\n",
    "plt.xlabel('Age')\n",
    "plt.ylabel('Estimated Salary')\n",
    "plt.legend()\n",
    "plt.show()"
   ]
  },
  {
   "cell_type": "code",
   "execution_count": null,
   "metadata": {},
   "outputs": [],
   "source": [
    "#Visualising test set\n",
    "\n",
    "X_set, y_set = X_test, y_test\n",
    "X1, X2 = np.meshgrid(np.arange(start = X_set[:, 0].min() - 1, stop = X_set[:, 0].max() + 1, step = 0.01),\n",
    "                     np.arange(start = X_set[:, 1].min() - 1, stop = X_set[:, 1].max() + 1, step = 0.01))\n",
    "plt.xlim(X1.min(), X1.max())\n",
    "plt.ylim(X2.min(), X2.max())\n",
    "for i, j in enumerate(np.unique(y_set)):\n",
    "    plt.scatter(X_set[y_set == j, 0], X_set[y_set == j, 1],\n",
    "                c = ListedColormap(('red', 'green'))(i), label = j)\n",
    "plt.title('Logistic Regression (Test set)')\n",
    "plt.xlabel('Age')\n",
    "plt.ylabel('Estimated Salary')\n",
    "plt.legend()\n",
    "plt.show()"
   ]
  },
  {
   "cell_type": "code",
   "execution_count": null,
   "metadata": {},
   "outputs": [],
   "source": [
    "new_val = [[39,134000]]"
   ]
  },
  {
   "cell_type": "code",
   "execution_count": null,
   "metadata": {},
   "outputs": [],
   "source": [
    "print(\"Purchased: \",classifier.predict(new_val))"
   ]
  },
  {
   "cell_type": "code",
   "execution_count": null,
   "metadata": {},
   "outputs": [],
   "source": [
    "from sklearn.metrics import classification_report"
   ]
  },
  {
   "cell_type": "code",
   "execution_count": null,
   "metadata": {},
   "outputs": [],
   "source": [
    "matrix = confusion_matrix(y_test,y_pred, labels=[0,1])\n",
    "print('Confusion matrix : \\n',matrix)"
   ]
  },
  {
   "cell_type": "code",
   "execution_count": null,
   "metadata": {},
   "outputs": [],
   "source": [
    "TP, FN, FP, TN = confusion_matrix(y_test,y_pred,labels=[0,1]).reshape(-1)\n",
    "print('Outcome values : \\n', TP, FN, FP, TN)"
   ]
  },
  {
   "cell_type": "code",
   "execution_count": null,
   "metadata": {},
   "outputs": [],
   "source": [
    "matrix = classification_report(y_test,y_pred,labels=[0,1])\n",
    "print('Classification report : \\n',matrix)"
   ]
  },
  {
   "cell_type": "code",
   "execution_count": null,
   "metadata": {},
   "outputs": [],
   "source": []
  },
  {
   "cell_type": "code",
   "execution_count": null,
   "metadata": {},
   "outputs": [],
   "source": []
  },
  {
   "cell_type": "code",
   "execution_count": null,
   "metadata": {},
   "outputs": [],
   "source": []
  }
 ],
 "metadata": {
  "interpreter": {
   "hash": "c1b532cdceb6376a4c42e6e5ce731586efab02ca710b01210cfcda4686ab3dda"
  },
  "kernelspec": {
   "display_name": "Python 3.9.7 64-bit",
   "name": "python3"
  },
  "language_info": {
   "codemirror_mode": {
    "name": "ipython",
    "version": 3
   },
   "file_extension": ".py",
   "mimetype": "text/x-python",
   "name": "python",
   "nbconvert_exporter": "python",
   "pygments_lexer": "ipython3",
   "version": "3.9.7"
  }
 },
 "nbformat": 4,
 "nbformat_minor": 4
}
