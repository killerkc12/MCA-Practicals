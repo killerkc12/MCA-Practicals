{
 "cells": [
  {
   "cell_type": "code",
   "execution_count": 1,
   "id": "8fc0a8ca-c7cd-41ec-913e-a4bfcf94d1d3",
   "metadata": {},
   "outputs": [],
   "source": [
    "import numpy as np\n",
    "from sklearn.datasets import make_blobs\n",
    "from sklearn.linear_model import LogisticRegression\n",
    "import matplotlib.pyplot as plt\n",
    "from sklearn.model_selection import train_test_split"
   ]
  },
  {
   "cell_type": "code",
   "execution_count": 2,
   "id": "18c81f52-e1ca-4ae5-a314-8d59d0a3f863",
   "metadata": {},
   "outputs": [],
   "source": [
    "X, y = make_blobs(centers=2, random_state=0)"
   ]
  },
  {
   "cell_type": "code",
   "execution_count": 3,
   "id": "4dbfa043-c84a-4bd5-920e-73a24991ab0b",
   "metadata": {},
   "outputs": [
    {
     "data": {
      "text/plain": [
       "<matplotlib.collections.PathCollection at 0x212aae1d400>"
      ]
     },
     "execution_count": 3,
     "metadata": {},
     "output_type": "execute_result"
    },
    {
     "data": {
      "image/png": "[encoded data removed]",
      "text/plain": [
       "<Figure size 432x288 with 1 Axes>"
      ]
     },
     "metadata": {
      "needs_background": "light"
     },
     "output_type": "display_data"
    }
   ],
   "source": [
    "plt.scatter(X[:,0], X[:, 1], c=y)"
   ]
  },
  {
   "cell_type": "code",
   "execution_count": 4,
   "id": "d4d4a421-ede3-490a-aba6-427a632520e9",
   "metadata": {},
   "outputs": [],
   "source": [
    "class CustomLogisticRegresion:\n",
    "    \n",
    "    # constructor\n",
    "    def __init__(self, lr=0.01, iters=20):\n",
    "        self._lr = lr\n",
    "        self._iters = iters\n",
    "        \n",
    "    # fit function, where training will happen\n",
    "    def fit(self, X, y):\n",
    "        self._y = y.reshape(-1, 1)\n",
    "        X_mod = np.hstack([np.ones([len(X), 1]), X])\n",
    "        self._X = X_mod\n",
    "\n",
    "        self._theta = np.zeros([X_mod.shape[1], 1])\n",
    "\n",
    "        err = []\n",
    "        for i in range(self._iters):\n",
    "            err.append(self.error())\n",
    "            self.gradient_ascend()\n",
    "\n",
    "        self.theta_ = self._theta\n",
    "        return err\n",
    "\n",
    "    def gradient_ascend(self):\n",
    "        yh = self.hypothesis(self._X) #(100, 1)\n",
    "        ya = self._y\n",
    "        diff = -(ya - yh) #(100, 1)\n",
    "        return np.dot(self._X.T, diff) * self._lr # (3, 1)\n",
    "\n",
    "    def hypothesis(self, X):\n",
    "        prod = np.dot(X, self._theta)\n",
    "        # X.shape = (100, 3)\n",
    "        # shape of theta = (3, 1)\n",
    "        # prop.shape (100, 1)\n",
    "        return 1/ (1+ np.exp(-prod))\n",
    "\n",
    "    def error(self):\n",
    "        yh = self.hypothesis(self._X)\n",
    "        ya = self._y\n",
    "        ll = ya * np.log(yh) + (1-ya) * np.log(1 - yh)\n",
    "        # shape of ll (100, 1)\n",
    "        return -np.mean(ll)\n",
    "\n",
    "    def predict(self, X):\n",
    "        X_mod - np.hstack([np.ones([len(X), 1]), X])\n",
    "        yh = self.hypothesis(X_mod)\n",
    "        return (yh > .5).astype(int).flatten()\n",
    "\n",
    "    def score(self, X, y):\n",
    "        yp = self.predict(X)\n",
    "        return np.mean(yp == y)"
   ]
  },
  {
   "cell_type": "code",
   "execution_count": 5,
   "id": "f80426cd-1ef3-44be-bc0e-be9210697ddf",
   "metadata": {},
   "outputs": [],
   "source": [
    "model = CustomLogisticRegresion()"
   ]
  },
  {
   "cell_type": "code",
   "execution_count": 6,
   "id": "d348add7-c4c1-4c4f-957c-009bbd6d27ac",
   "metadata": {},
   "outputs": [],
   "source": [
    "X_train, X_test, y_train, y_test = train_test_split(\n",
    "...     X, y, test_size=0.33, random_state=42)"
   ]
  },
  {
   "cell_type": "code",
   "execution_count": 7,
   "id": "d074b12a-aff6-49c8-91af-6e09ec62d1ba",
   "metadata": {},
   "outputs": [],
   "source": [
    "err = model.fit(X_train, y_train)"
   ]
  },
  {
   "cell_type": "code",
   "execution_count": 8,
   "id": "7c2e4c29-09d4-4949-a979-6348944df19b",
   "metadata": {},
   "outputs": [
    {
     "data": {
      "text/plain": [
       "[<matplotlib.lines.Line2D at 0x212abeffee0>]"
      ]
     },
     "execution_count": 8,
     "metadata": {},
     "output_type": "execute_result"
    },
    {
     "data": {
      "image/png": "[encoded data removed]",
      "text/plain": [
       "<Figure size 432x288 with 1 Axes>"
      ]
     },
     "metadata": {
      "needs_background": "light"
     },
     "output_type": "display_data"
    }
   ],
   "source": [
    "plt.plot(err) "
   ]
  },
  {
   "cell_type": "code",
   "execution_count": 9,
   "id": "0899c03d-7c37-4013-970c-9fb2ea349470",
   "metadata": {},
   "outputs": [
    {
     "data": {
      "text/plain": [
       "array([[0.],\n",
       "       [0.],\n",
       "       [0.]])"
      ]
     },
     "execution_count": 9,
     "metadata": {},
     "output_type": "execute_result"
    }
   ],
   "source": [
    "model.theta_"
   ]
  }
 ],
 "metadata": {
  "interpreter": {
   "hash": "c1b532cdceb6376a4c42e6e5ce731586efab02ca710b01210cfcda4686ab3dda"
  },
  "kernelspec": {
   "display_name": "Python 3.9.7 64-bit",
   "name": "python3"
  },
  "language_info": {
   "codemirror_mode": {
    "name": "ipython",
    "version": 3
   },
   "file_extension": ".py",
   "mimetype": "text/x-python",
   "name": "python",
   "nbconvert_exporter": "python",
   "pygments_lexer": "ipython3",
   "version": "3.9.7"
  }
 },
 "nbformat": 4,
 "nbformat_minor": 5
}
